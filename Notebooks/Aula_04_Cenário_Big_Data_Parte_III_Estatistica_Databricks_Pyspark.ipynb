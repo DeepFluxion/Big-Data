{
 "cells": [
  {
   "cell_type": "markdown",
   "metadata": {
    "slideshow": {
     "slide_type": "slide"
    }
   },
   "source": [
    "# Entendendo o Big Data\n",
    "(baseado em Guller (2015) - Big Data Analytics with Spark A Practitioner’s Guide to Using Spark for Large-Scale Data Processing, Machine Learning, and Graph Analytics, and High-Velocity Data Stream Processing)\n",
    "\n",
    "\n",
    "![](https://komnect.com/wp-content/uploads/2018/08/komnect-data-science-vs-big-data-vs-data-analytics.png)"
   ]
  },
  {
   "cell_type": "markdown",
   "metadata": {
    "slideshow": {
     "slide_type": "slide"
    }
   },
   "source": [
    "# Falando sobre o Cenário de Big Data - O que é Serialização de Dados\n",
    "Os dados têm seu próprio ciclo de vida, independente do programa que os cria ou consome. Na maioria das vezes, os dados sobrevivem ao aplicativo que os criou. \n",
    "\n",
    "Geralmente, são salvos no disco. Às vezes, ele são enviado de um aplicativo para outro aplicativo em uma rede.\n",
    "\n",
    "O formato no qual os dados são armazenados no disco ou enviados pela rede é diferente do formato em que vivem na memória. \n",
    "\n",
    "O processo de conversão de dados na memória em um formato no qual possam ser armazenados em disco ou enviados pela rede é chamado de **serialização**. O processo reverso de leitura de dados do disco ou rede para a memória é chamado de desserialização."
   ]
  },
  {
   "cell_type": "markdown",
   "metadata": {
    "slideshow": {
     "slide_type": "slide"
    }
   },
   "source": [
    "# Falando sobre o Cenário de Big Data - Como é a Serialização de Dados\n",
    "\n",
    "Os dados podem ser serializados usando muitos formatos diferentes. Os exemplos incluem CSV, XML, JSON e vários formatos binários. Cada formato tem prós e contras. \n",
    "\n",
    "Por exemplo, formatos de texto como CSV, XML e JSON são legíveis por humanos, mas não são eficientes em termos de espaço de armazenamento ou tempo de análise. \n",
    "\n",
    "Por outro lado, os formatos binários são mais compactos e podem ser analisados ​​muito mais rapidamente do que os formatos de texto. No entanto, os formatos binários não são legíveis por humanos."
   ]
  },
  {
   "cell_type": "markdown",
   "metadata": {
    "slideshow": {
     "slide_type": "slide"
    }
   },
   "source": [
    "# Falando sobre o Cenário de Big Data - O Tempo de Serialização de Dados\n",
    "\n",
    "O tempo de serialização/desserialização ou a diferença de espaço de armazenamento entre os formatos de texto e binários não é um grande problema quando um conjunto de dados é pequeno. \n",
    "\n",
    "Portanto, as pessoas geralmente preferem formatos de texto para pequenos conjuntos de dados, pois são mais fáceis de gerenciar. \n",
    "\n",
    "No entanto, para grandes conjuntos de dados, o tempo de serialização/desserialização ou a diferença de espaço de armazenamento entre os formatos de texto e binários são significativos. \n",
    "\n",
    "Portanto, os formatos binários são geralmente preferidos para armazenar grandes conjuntos de dados.\n",
    "\n",
    "Vamos descrever alguns dos formatos binários comumente usados para serializar big data."
   ]
  },
  {
   "cell_type": "markdown",
   "metadata": {
    "slideshow": {
     "slide_type": "slide"
    }
   },
   "source": [
    "![](https://www.altova.com/blog/wp-content/uploads/avro-logo.png)\n",
    "\n",
    "# Avro\n",
    "Avro fornece um formato binário compacto independente de linguagem para serialização de dados. Ele pode ser usado para armazenar dados em um arquivo ou enviá-los pela rede. Ele oferece suporte a estruturas de dados ricas, incluindo dados aninhados.\n",
    "\n",
    "Avro usa um formato binário autoexplicativo. Quando os dados são serializados usando Avro, o esquema é armazenado junto com os dados. \n",
    "\n",
    "Portanto, um arquivo Avro pode ser lido posteriormente por qualquer aplicativo. Além disso, como o esquema é armazenado junto com os dados, cada datum é gravado sem sobrecargas por valor, tornando a serialização rápida e compacta. \n",
    "\n",
    "Quando os dados são trocados em uma rede usando Avro, o emissor e o receptor trocam esquemas durante um handshake de conexão inicial. "
   ]
  },
  {
   "cell_type": "markdown",
   "metadata": {
    "slideshow": {
     "slide_type": "slide"
    }
   },
   "source": [
    "# Avro\n",
    "\n",
    "Um esquema Avro é descrito usando JSON [Leia mais sobre JSON aqui](https://pt.wikipedia.org/wiki/JSON).\n",
    "\n",
    "![](https://www.altova.com/blog/wp-content/uploads/avro-schema-editor-1.png)\n",
    "\n",
    "Avro lida automaticamente com adição e remoção de campo e compatibilidade com versões anteriores e posteriores - tudo sem qualquer reconhecimento por parte de um aplicativo.\n",
    "\n",
    "Saiba como acessar dados AVRO neste [link](https://www.altova.com/blog/working-with-avro-big-data-in-xml-editor/)"
   ]
  },
  {
   "cell_type": "markdown",
   "metadata": {
    "slideshow": {
     "slide_type": "slide"
    }
   },
   "source": [
    "![](https://modeling-languages.com/wp-content/uploads/2016/12/apache_thrift.jpg)\n",
    "# Thrift\n",
    "\n",
    "Thrift é uma estrutura de serialização de dados independente de linguagem. \n",
    "\n",
    "Ele fornece principalmente ferramentas para serializar a troca de dados em uma rede entre aplicativos escritos em diferentes linguagens de programação. \n",
    "\n",
    "Suporta uma variedade de linguagens, incluindo C ++, Java, Python, PHP, Ruby, Erlang, Perl, Haskell, C #, Cocoa, JavaScript, Node.js, Smalltalk, OCaml, Delphi e outras linguagens.\n",
    "\n",
    "Thrift fornece uma ferramenta de geração de código e um conjunto de bibliotecas para serializar dados e transmiti-los através de uma rede. \n",
    "\n",
    "Thrift abstrai o mecanismo para serializar dados e transportá-los através de uma rede. Assim, permite que um desenvolvedor de aplicativos se concentre na lógica do aplicativo central, em vez de se preocupar com a serialização de dados e a transmissão confiável e eficiente pela rede."
   ]
  },
  {
   "cell_type": "markdown",
   "metadata": {
    "slideshow": {
     "slide_type": "slide"
    }
   },
   "source": [
    "\n",
    "# Um pouco mais sobre o Thrift\n",
    "\n",
    "<img src=\"http://www.thrift.pl/images/image_1.png\" alt=\"Drawing\" style=\"width: 400px;\"/>\n",
    "\n",
    "Com Thrift, um desenvolvedor de aplicativos define tipos de dados e interface de serviço em um arquivo de definição de interface com neutralidade de idioma. \n",
    "\n",
    "Os serviços definidos em um arquivo de definição de interface são fornecidos por um aplicativo de servidor e usados por um aplicativo cliente. \n",
    "\n",
    "O compilador Thrift compila esse arquivo e gera código que um desenvolvedor pode usar para construir rapidamente aplicativos cliente e servidor.\n",
    "\n",
    "Um servidor e um cliente baseados em Thrift podem ser executados no mesmo computador ou em computadores diferentes em uma rede. Da mesma forma, o servidor e o aplicativo cliente podem ser desenvolvidos usando a mesma linguagem de programação ou diferentes linguagens de programação.\n",
    "\n",
    "Veja um tutorila rápidp de Thrift [neste link](http://www.thrift.pl/)"
   ]
  },
  {
   "cell_type": "markdown",
   "metadata": {
    "slideshow": {
     "slide_type": "slide"
    }
   },
   "source": [
    "\n",
    "\n",
    "<img src=\"https://www.freecodecamp.org/news/content/images/size/w2000/2020/05/unnamed-1.png\" alt=\"Drawing\" style=\"width: 400px;\"/>\n",
    "\n",
    "# Protocol Buffers (Buffers de protocolo)\n",
    "\n",
    "Protocol Buffers é uma estrutura de serialização de dados de código aberto desenvolvida pelo Google. Assim como Thrift e Avro, é neutro em termos de linguagem. O Google usa internamente os buffers de protocolo como formato de arquivo principal. Ele também o usa internamente para trocar dados entre aplicativos em uma rede.\n",
    "\n",
    "Protocol Buffers é semelhante ao Thrift. \n",
    "\n",
    "Ele fornece um compilador e um conjunto de bibliotecas que um desenvolvedor pode usar para serializar dados. Um desenvolvedor define a estrutura ou esquema de um conjunto de dados em um arquivo e o compila com o compilador de buffers de protocolo, que gera o código que pode ser usado para ler ou gravar facilmente esses dados.\n",
    "\n",
    "Comparados ao Thrift, os Buffers de protocolo oferecem suporte a um conjunto menor de linguagens. Atualmente, ele oferece suporte a C ++, Java e Python.\n",
    "\n",
    "Veja um tutorila do protocol Buffers neste [link](https://www.freecodecamp.org/news/googles-protocol-buffers-in-python/)"
   ]
  },
  {
   "cell_type": "markdown",
   "metadata": {
    "slideshow": {
     "slide_type": "slide"
    }
   },
   "source": [
    "# SequenceFile\n",
    "SequenceFile é um formato de arquivo simples binário para armazenar pares de valores-chave. É comumente usado no Hadoop como formato de arquivo de entrada e saída. \n",
    "\n",
    "MapReduce também usa SequenceFiles para armazenar a saída temporária de funções de mapa. Um SequenceFile pode ter três formatos diferentes: Uncompressed, Record Compressed e Block Compressed. \n",
    "\n",
    "Em um Record Compressed SequenceFile, apenas o valor em um registro é compactado; enquanto em um Block Compressed SequenceFile, as chaves e os valores são compactados.\n",
    "\n",
    "Veja um pouco mais [neste link](https://cwiki.apache.org/confluence/display/HADOOP2/SequenceFile)"
   ]
  },
  {
   "cell_type": "markdown",
   "metadata": {
    "slideshow": {
     "slide_type": "slide"
    }
   },
   "source": [
    "\n",
    "\n",
    "<img src=\"http://www.ivanomalavolta.com/wp-content/uploads/2013/01/nosql.gif\" alt=\"Drawing\" style=\"width: 400px;\"/>\n",
    "\n",
    "# Falando sobre o Cenário de Big Data -  NoSQL\n",
    "\n",
    "O termo NoSQL é usado para uma ampla categoria de bancos de dados modernos não relacionais. \n",
    "\n",
    "Inicialmente, NoSQL significava “Sem suporte a SQL”, uma vez que esses bancos de dados não suportavam SQL. \n",
    "\n",
    "No entanto, agora significa “Não apenas SQL”, já que alguns desses bancos de dados suportam um subconjunto de comandos SQL. \n",
    "\n",
    "Os bancos de dados NoSQL têm objetivos de design diferentes dos bancos de dados RDBMS. \n",
    "\n",
    "Um banco de dados relacional garante ACID (Atomicidade, Consistência, Isolamento, Durabilidade). \n",
    "\n",
    "Um banco de dados NoSQL troca a conformidade com ACID por escalabilidade linear, desempenho, alta disponibilidade, esquema flexível e outros recursos.\n",
    "\n",
    "Vamos discutir alguns dos bancos de dados NoSQL comumente usados."
   ]
  },
  {
   "cell_type": "markdown",
   "metadata": {
    "slideshow": {
     "slide_type": "slide"
    }
   },
   "source": [
    "<img src=\"https://yadax.com.br/wp-content/uploads/2018/05/Cassandra-300x201.png\" alt=\"Drawing\" style=\"width: 400px;\"/>\n",
    "\n",
    "# Cassandra\n",
    "Cassandra é um banco de dados NoSQL distribuído, escalonável e tolerante a falhas, projetado para armazenar grandes conjuntos de dados. \n",
    "\n",
    "É um armazenamento de linha particionado com consistência ajustável. \n",
    "\n",
    "Um de seus principais recursos é o esquema dinâmico. Cada linha pode armazenar colunas diferentes, ao contrário de bancos de dados relacionais, onde cada linha tem exatamente as mesmas colunas. Além disso, o Cassandra é otimizado para gravações, portanto, as inserções têm alto desempenho.\n",
    "\n",
    "\n",
    "Cassandra tem uma arquitetura distribuída masterless. Portanto, não possui um único ponto de falha. Além disso, ele fornece distribuição automática de linhas em um cluster. Um aplicativo cliente lendo ou gravando dados pode se conectar a qualquer nó em um cluster Cassandra.\n"
   ]
  },
  {
   "cell_type": "markdown",
   "metadata": {
    "slideshow": {
     "slide_type": "slide"
    }
   },
   "source": [
    "# Cassandra <img src=\"https://yadax.com.br/wp-content/uploads/2018/05/Cassandra-300x201.png\" alt=\"Drawing\" style=\"width: 100px;\"/>\n",
    "\n",
    "O Cassandra fornece alta disponibilidade por meio de suporte integrado para replicação de dados. O número de réplicas a serem salvas é configurável. Cada réplica é armazenada em um nó diferente em um cluster. Portanto, se o fator de replicação for 3, mesmo se um ou dois nós falharem, o cluster ainda estará disponível.\n",
    "\n",
    "Os dados são modelados no Cassandra usando uma hierarquia de keyspace, tabela, linha e coluna. Um keyspace é conceitualmente semelhante a um banco de dados ou esquema em um RDBMS. É uma coleção lógica de tabelas. Representa a família, é conceitualmente semelhante a uma tabela em um RDBMS. Uma família de colunas consiste em uma coleção de linhas particionadas. \n",
    "\n",
    "Cada linha consiste em uma chave de partição e um conjunto de colunas. É importante observar que embora um keyspace, tabela, linha e coluna no Cassandra pareçam semelhantes a um esquema, tabela, linha e coluna, respectivamente, em um banco de dados relacional, sua implementação e armazenamento físico são diferentes.\n",
    "\n",
    "[Neste link](https://yadax.com.br/nosql/arquitetura-do-cassandra-replicacao/) o primeiro de uma série de artigos sobre [Apache Cassandra](https://pt.wikipedia.org/wiki/Apache_Cassandra)"
   ]
  },
  {
   "cell_type": "markdown",
   "metadata": {
    "slideshow": {
     "slide_type": "slide"
    }
   },
   "source": [
    "# Na proxima aula continuamos com explicando conceitos e e mais componentes do cenário Big Data"
   ]
  },
  {
   "cell_type": "markdown",
   "metadata": {
    "slideshow": {
     "slide_type": "slide"
    }
   },
   "source": [
    "# Conceitos de estatística descritiva\n",
    "\n",
    "A estatística descritiva pode ser entendida como uma ferramenta capaz de descrever ou resumir dados, mostrando aspectos importantes do conjunto de dados, como o tipo de distribuição associada e os valores mais representativos do conjunto, e permitindo criar visualizações referentes a tais aspectos."
   ]
  },
  {
   "cell_type": "markdown",
   "metadata": {
    "slideshow": {
     "slide_type": "slide"
    }
   },
   "source": [
    "# População\n",
    "\n",
    "População, ou universo, é o nome que se dá a um conjunto de unidades (elementos ou exemplares/dados se aproximarmos a definição ao contexto de mineração de dados) que compartilham características comuns e sobre o qual é pretendido o desenvolvimento de um estudo. \n",
    "\n",
    "O conjunto de vendas realizadas durante o tempo de funcionamento de um restaurante é um exemplo de população (de vendas). \n",
    "\n",
    "A população pode ser finita ou infinita. \n",
    "\n",
    "Sendo finita, se pequena, um estudo pode envolver sua totalidade. Caso seja muito grande ou infinita, faz-se necessário estabelecer uma amostra, para que um estudo sobre ela se viabilize."
   ]
  },
  {
   "cell_type": "markdown",
   "metadata": {
    "slideshow": {
     "slide_type": "slide"
    }
   },
   "source": [
    "# Amostra\n",
    "\n",
    "Uma amostra, então, é um subconjunto da população (também chamado de fração ou parte) que deve ser estabelecido com cuidado, seguindo técnicas apropriadas, pois o objetivo de obter uma amostra é reduzir o tamanho da população sem que características essenciais associadas a ela sejam perdidas. \n",
    "\n",
    "Boas técnicas de amostragem geram amostras representativas e imparciais da população, ou seja, mantêm a proporcionalidade dos fenômenos que ocorrem na população e conferem chances iguais aos elementos da população de fazerem parte da amostra. \n",
    "\n",
    "Há diferentes formas de estabelecer uma amostra, que resultam em diferentes tipos de amostragem: aleatória, estratificada, por conglomerados, acidental, intencional, por quotas etc..."
   ]
  },
  {
   "cell_type": "markdown",
   "metadata": {
    "slideshow": {
     "slide_type": "slide"
    }
   },
   "source": [
    "![População](https://sites.google.com/site/estatisticabasicacc/_/rsrc/1472780767290/conteudo/estat/populacao/popula%C3%A7%C3%A3o-esta.jpg)"
   ]
  },
  {
   "cell_type": "markdown",
   "metadata": {
    "slideshow": {
     "slide_type": "slide"
    }
   },
   "source": [
    "## Variável\n",
    "\n",
    "Na estatística descritiva, uma variável diz respeito a uma característica associada a elementos de uma população. \n",
    "\n",
    "Por exemplo, num restaurante, uma variável pode ser a temperatura em que um vinho deve ser servido (com valores como 5°C ou 12°C) ou o tipo de um prato presente no cardápio (com os seguintes valores, por exemplo: aperitivo, pasta, carne branca ou sobremesa quente). \n",
    "\n",
    "Fazendo uma analogia à representação de um dado usada neste livro, uma variável é equivalente a um atributo descritivo. As variáveis, no contexto da estatística descritiva, podem ser **quantitativas** ou **qualitativas**."
   ]
  },
  {
   "cell_type": "markdown",
   "metadata": {},
   "source": [
    "![Var](https://3.bp.blogspot.com/-Z-89qR3-jwA/WH_MjpYDRoI/AAAAAAAABRo/l80dwaf8Gc89I0XVbooN9cwJEFQ0P_KbwCLcB/s400/Variaveis.jpg)"
   ]
  },
  {
   "cell_type": "markdown",
   "metadata": {
    "slideshow": {
     "slide_type": "slide"
    }
   },
   "source": [
    "# Variável Quantitativa\n",
    "\n",
    "As **variáveis quantitativas** (também nomeadas no contexto de mineração de dados como variáveis numéricas) são aquelas que podem ser medidas em uma escala de valores numéricos, e se dividem em **discretas** (assumem valores dentro de um conjunto finito ou infinito contável) ou **contínuas** (assumem valores em uma escala contínua). "
   ]
  },
  {
   "cell_type": "markdown",
   "metadata": {},
   "source": [
    "# Variável Qualitativa\n",
    "\n",
    "As **variáveis qualitativas** (também nomeadas no contexto de mineração de dados como variáveis categóricas) são aquelas que representam uma classificação do elemento ao qual o valor da variável está associado, e se dividem em **nominais** (quando não há ordenação entre valores) ou **ordinais** (quando há uma ordenação entre os valores). \n",
    "Alguns exemplos de variáveis, considerando o contexto de um restaurante, e alguns valores que elas podem assumir estão organizados a seguir"
   ]
  },
  {
   "cell_type": "markdown",
   "metadata": {},
   "source": [
    "# Variáveis quantitativas  \n",
    "---\n",
    "\n",
    "### Discretas\n",
    "> **Quantidade de bebidas vendidas: 15, 6, 3, 0**   \n",
    "> **Idade do cliente: 5, 10, 25, 32, 57**"
   ]
  },
  {
   "cell_type": "markdown",
   "metadata": {
    "slideshow": {
     "slide_type": "slide"
    }
   },
   "source": [
    "## Contínuas\n",
    "> **Preço de um item do cardápio: 5,50, 35,00, 99,50 **  \n",
    "> **Peso de um corte de carne: 100g, 226g, 500g** "
   ]
  },
  {
   "cell_type": "markdown",
   "metadata": {
    "slideshow": {
     "slide_type": "slide"
    }
   },
   "source": [
    "# Variáveis qualitativas  \n",
    "---\n",
    "\n",
    "### Nominais\n",
    "> **Código da forma de pagamento: 11, 21, 31**   \n",
    "> **Forma de pagamento: dinheiro, débito, crédito**"
   ]
  },
  {
   "cell_type": "markdown",
   "metadata": {
    "slideshow": {
     "slide_type": "slide"
    }
   },
   "source": [
    "## Ordinais\n",
    "> **Faixa etária dos clientes: 0 a 10 anos, 11 a 17 anos, 18 a 30 anos, 31 a 50 anos, mais de 50 anos**   \n",
    "> **Mês de observação: janeiro, abril, novembro**"
   ]
  },
  {
   "cell_type": "markdown",
   "metadata": {
    "slideshow": {
     "slide_type": "slide"
    }
   },
   "source": [
    "# Medidas de posição e separatrizes\n",
    "\n",
    "Medidas de posição , ou medidas de tendência central , permitem encontrar os valores que orientam a análise dos dados no que diz respeito à sua localização, ou como a distribuição associada aos valores se comporta no universo amostrado.\n",
    "\n",
    "As medidas de posição mais comuns no contexto de análise exploratória de dados são média aritmética, mediana e moda. Relacionadas com a mediana estão as medidas separatrizes percentis e quartis.\n",
    "\n",
    "Para um conjunto de valores $v = {v_1,v_2,...,v_n}$, em que $n$ é a quantidade de valores do conjunto, a média aritmética simples (média(v) ou  ) é a soma dos valores do conjunto v, dividida pela quantidade de valores presentes nesse conjunto. \n",
    "\n",
    "Formalmente, $média (v)$ é definida como:\n",
    "\n",
    "$$\n",
    "media (v) = \\frac{1}{n}\\sum_{i=1}^{n}v_{i}\n",
    "$$"
   ]
  },
  {
   "cell_type": "markdown",
   "metadata": {
    "slideshow": {
     "slide_type": "slide"
    }
   },
   "source": [
    "# Medidas de posição e separatrizes\n",
    "\n",
    "A **mediana** ($mediana(v)$) é o valor que divide a distribuição dos valores exatamente ao meio (podendo ser vista também como uma medida separatriz). \n",
    "\n",
    "Importante lembrar que tal valor não precisa estar presente no conjunto $v$. \n",
    "\n",
    "Para o cálculo da mediana, todos os valores presentes no conjunto devem ser ordenados de forma crescente (formando o conjunto $v’$), e a mediana será, então, dada por:\n",
    "$$\n",
    "mediana(v)=\\left\\{\\begin{matrix}\n",
    "se\\;n\\;par\\; v_{'}^{i}\\;onde\\; i=\\frac{n+1}{2}\\\\ \n",
    "se\\;n\\;impar\\; \\frac{v_{i}^{'}+v_{i+1}^{'}}{2}\\;onde \\; i=\\frac{n}{2}\n",
    "\\end{matrix}\\right.\n",
    "$$\n",
    "em que i é uma posição no conjunto de valores v’."
   ]
  },
  {
   "cell_type": "markdown",
   "metadata": {
    "slideshow": {
     "slide_type": "slide"
    }
   },
   "source": [
    "# Medidas de posição e separatrizes\n",
    "\n",
    "\n",
    " **moda** , por sua vez, é o valor mais frequente em um conjunto de valores. \n",
    "\n",
    "Ela é a única medida de posição que pode assumir mais de um valor. \n",
    "\n",
    "Essa situação ocorre quando dois ou mais valores aparecem no conjunto de valores v com a mesma frequência, a máxima no conjunto. Assim, um conjunto de valores pode ser:\n",
    "- **amodal** (não possui moda), \n",
    "- **unimodal** (possui uma moda), \n",
    "- **bimodal** (possui duas modas) ou \n",
    "- **multimodal** (possui diversas modas)."
   ]
  },
  {
   "cell_type": "markdown",
   "metadata": {
    "slideshow": {
     "slide_type": "slide"
    }
   },
   "source": [
    "# Percentis e Quartis\n",
    "\n",
    "Os **percentis** e **quartis** são medidas separatrizes que dividem o conjunto de valores, ordenado de forma crescente, em partes tão iguais quanto possível. \n",
    "\n",
    "O **percentil de ordem p** determina os **p% menores valores contidos em v’**, e a posição i, que delimita o percentil de ordem p em v’, é dada por:\n",
    "\n",
    "$$\n",
    "i=\\frac{p(n+1)}{100}\n",
    "$$"
   ]
  },
  {
   "cell_type": "markdown",
   "metadata": {
    "slideshow": {
     "slide_type": "slide"
    }
   },
   "source": [
    "# Medidas de dispersão\n",
    "As medidas de posição são úteis para apresentar uma sumarização dos dados. No entanto, não são capazes de descrever a variação ou dispersão do conjunto de valores. \n",
    "\n",
    "Para esse fim, aplicam-se as medidas de dispersão , capazes de descrever o quanto os valores de um conjunto estão próximos ou distantes de uma medida central, como a média. \n",
    "\n",
    "As medidas mais comuns de dispersão ou variância dos dados são a **amplitude**, **variância**, **desvio-padrão**."
   ]
  },
  {
   "cell_type": "markdown",
   "metadata": {
    "slideshow": {
     "slide_type": "slide"
    }
   },
   "source": [
    "# Amplitude\n",
    "Para um conjunto de valores v, a medida da amplitude é a diferença entre o maior e o menor valor do conjunto, portanto: \n",
    "$$\n",
    "amplitude (v) = max (v) – min (v). \n",
    "$$\n",
    "\n",
    "Embora a medida da amplitude seja simples, sua interpretação precisa ser feita com cuidado, pois ela pode ser influenciada por valores extremos, conhecidos como outliers que veremos mais a frente."
   ]
  },
  {
   "cell_type": "markdown",
   "metadata": {
    "slideshow": {
     "slide_type": "slide"
    }
   },
   "source": [
    "# Variância\n",
    "\n",
    "A **variância** $\\sigma^2(v)$ é uma medida de dispersão definida como a média dos quadrados das diferenças entre cada valor do conjunto v e a média desse conjunto. Formalmente, tem-se:\n",
    "$$\n",
    "\\sigma^2 (v) = \\frac{1}{n}\\sum_{i=1}^{n}(v_i - media(v))^2\n",
    "$$"
   ]
  },
  {
   "cell_type": "markdown",
   "metadata": {
    "slideshow": {
     "slide_type": "slide"
    }
   },
   "source": [
    "# Desvio-padrão\n",
    "\n",
    "O **desvio-padrão** $\\sigma(v)$ é a raiz quadrada da variância. \n",
    "\n",
    "O uso do desviopadrão só faz sentido quando a média for usada como medida de posição (ou de centro). \n",
    "\n",
    "Ele é semelhante à medida de amplitude, com a diferença de que o cálculo do desvio-padrão usa todos os valores de um conjunto. \n",
    "\n",
    "O resultado dessa medida geralmente é usado para verificar a consistência de um fenômeno (um fenômeno é consistente quando o cálculo do desvio-padrão resulta em valores baixos)."
   ]
  },
  {
   "cell_type": "markdown",
   "metadata": {
    "slideshow": {
     "slide_type": "slide"
    }
   },
   "source": [
    "# Distribuição Normal $\\mu$ e $\\sigma$\n",
    "\n",
    "![](https://www.inf.ufsc.br/~andre.zibetti/probabilidade/figures/normal.PNG)"
   ]
  },
  {
   "cell_type": "markdown",
   "metadata": {
    "application/vnd.databricks.v1+cell": {
     "inputWidgets": {},
     "nuid": "8c74843e-d8c9-463e-b2da-574df584eec7",
     "showTitle": false,
     "title": ""
    },
    "slideshow": {
     "slide_type": "slide"
    }
   },
   "source": [
    "# Funções estatísticas com DataFrames no Apache Spark\n",
    "\n",
    "A estatística é uma parte importante da ciência de dados cotidiana. Nesta aula, examinamos algumas das funções importantes, incluindo:\n",
    "\n",
    "1. Geração de dados aleatórios\n",
    "2. Estatísticas resumidas e descritivas\n",
    "3. Covariância e correlação de amostra\n",
    "4. Tabulação cruzada (a.k.a. tabela de contingência)\n",
    "5. Itens frequentes\n",
    "6. Funções matemáticas\n",
    "\n",
    "Traduzido deste [link](https://databricks.com/blog/2015/06/02/statistical-and-mathematical-functions-with-dataframes-in-spark.html)"
   ]
  },
  {
   "cell_type": "markdown",
   "metadata": {
    "application/vnd.databricks.v1+cell": {
     "inputWidgets": {},
     "nuid": "0836c947-7eb4-4996-ad61-a3b677ce7fe4",
     "showTitle": false,
     "title": ""
    },
    "slideshow": {
     "slide_type": "slide"
    }
   },
   "source": [
    "1. Geração de dados aleatórios\n",
    "A geração de dados aleatórios é útil para testar algoritmos existentes e implementar algoritmos aleatórios, como projeção aleatória. Fornecemos métodos em sql.functions para gerar colunas que contêm i.i.d. valores retirados de uma distribuição, por exemplo, uniforme (`rand`) e normal padrão (`randn`).\n",
    "\n",
    "- Mais sobre distribuição uniforme neste [link](https://pt.wikipedia.org/wiki/Distribui%C3%A7%C3%A3o_uniforme)\n",
    "\n",
    "- Mais sobre distribuição normal neste [link](https://pt.wikipedia.org/wiki/Distribui%C3%A7%C3%A3o_normal)\n",
    "\n",
    "- Material interessante sobre distribuições simulações neste [link](https://rpubs.com/EstatBasica/Cap9)\n",
    "\n",
    "\n",
    "![Dist](https://www.researchgate.net/profile/Ana_Diniz_Marques/publication/303402313/figure/fig16/AS:364390395203591@1463888848534/Figura-68-Histograma-da-funcao-Uniforme-do-tempo-de-incubacao_W640.jpg)"
   ]
  },
  {
   "cell_type": "markdown",
   "metadata": {
    "application/vnd.databricks.v1+cell": {
     "inputWidgets": {},
     "nuid": "0836c947-7eb4-4996-ad61-a3b677ce7fe4",
     "showTitle": false,
     "title": ""
    },
    "slideshow": {
     "slide_type": "slide"
    }
   },
   "source": [
    "![Dist](https://www.researchgate.net/profile/Ji-Whan_Ahn/publication/269949106/figure/fig2/AS:614315975507968@1523475750023/Probability-distributions-of-the-input-variables-12_W640.jpg)"
   ]
  },
  {
   "cell_type": "code",
   "execution_count": 0,
   "metadata": {
    "application/vnd.databricks.v1+cell": {
     "inputWidgets": {},
     "nuid": "1bc2293f-6737-4f9a-a13b-8d71501fa639",
     "showTitle": false,
     "title": ""
    },
    "slideshow": {
     "slide_type": "slide"
    }
   },
   "outputs": [
    {
     "data": {
      "text/html": [
       "<style scoped>\n",
       "  .ansiout {\n",
       "    display: block;\n",
       "    unicode-bidi: embed;\n",
       "    white-space: pre-wrap;\n",
       "    word-wrap: break-word;\n",
       "    word-break: break-all;\n",
       "    font-family: \"Source Code Pro\", \"Menlo\", monospace;;\n",
       "    font-size: 13px;\n",
       "    color: #555;\n",
       "    margin-left: 4px;\n",
       "    line-height: 19px;\n",
       "  }\n",
       "</style>\n",
       "<div class=\"ansiout\"></div>"
      ]
     },
     "metadata": {
      "application/vnd.databricks.v1+output": {
       "addedWidgets": {},
       "arguments": {},
       "data": "<div class=\"ansiout\"></div>",
       "datasetInfos": [],
       "removedWidgets": [],
       "type": "html"
      }
     },
     "output_type": "display_data"
    }
   ],
   "source": [
    "from pyspark.sql.functions import rand, randn"
   ]
  },
  {
   "cell_type": "code",
   "execution_count": 0,
   "metadata": {
    "application/vnd.databricks.v1+cell": {
     "inputWidgets": {},
     "nuid": "a5bb31ac-8a05-4168-a59f-60147cf70d5f",
     "showTitle": false,
     "title": ""
    },
    "slideshow": {
     "slide_type": "slide"
    }
   },
   "outputs": [
    {
     "data": {
      "text/html": [
       "<style scoped>\n",
       "  .ansiout {\n",
       "    display: block;\n",
       "    unicode-bidi: embed;\n",
       "    white-space: pre-wrap;\n",
       "    word-wrap: break-word;\n",
       "    word-break: break-all;\n",
       "    font-family: \"Source Code Pro\", \"Menlo\", monospace;;\n",
       "    font-size: 13px;\n",
       "    color: #555;\n",
       "    margin-left: 4px;\n",
       "    line-height: 19px;\n",
       "  }\n",
       "</style>\n",
       "<div class=\"ansiout\">+---+\n",
       " id|\n",
       "+---+\n",
       "  0|\n",
       "  1|\n",
       "  2|\n",
       "  3|\n",
       "  4|\n",
       "  5|\n",
       "  6|\n",
       "  7|\n",
       "  8|\n",
       "  9|\n",
       "+---+\n",
       "\n",
       "</div>"
      ]
     },
     "metadata": {
      "application/vnd.databricks.v1+output": {
       "addedWidgets": {},
       "arguments": {},
       "data": "<div class=\"ansiout\">+---+\n| id|\n+---+\n|  0|\n|  1|\n|  2|\n|  3|\n|  4|\n|  5|\n|  6|\n|  7|\n|  8|\n|  9|\n+---+\n\n</div>",
       "datasetInfos": [],
       "removedWidgets": [],
       "type": "html"
      }
     },
     "output_type": "display_data"
    }
   ],
   "source": [
    " # Crie um DataFrame com uma coluna interna e 10 linhas.\n",
    "df = sqlContext.range(0, 10)\n",
    "df.show()"
   ]
  },
  {
   "cell_type": "code",
   "execution_count": 0,
   "metadata": {
    "application/vnd.databricks.v1+cell": {
     "inputWidgets": {},
     "nuid": "3d4c8b6e-7ddd-4d8b-ba11-c5cc06ae9378",
     "showTitle": false,
     "title": ""
    },
    "slideshow": {
     "slide_type": "slide"
    }
   },
   "outputs": [
    {
     "data": {
      "text/html": [
       "<style scoped>\n",
       "  .ansiout {\n",
       "    display: block;\n",
       "    unicode-bidi: embed;\n",
       "    white-space: pre-wrap;\n",
       "    word-wrap: break-word;\n",
       "    word-break: break-all;\n",
       "    font-family: \"Source Code Pro\", \"Menlo\", monospace;;\n",
       "    font-size: 13px;\n",
       "    color: #555;\n",
       "    margin-left: 4px;\n",
       "    line-height: 19px;\n",
       "  }\n",
       "</style>\n",
       "<div class=\"ansiout\">+---+-------------------+--------------------+\n",
       " id|            uniform|              normal|\n",
       "+---+-------------------+--------------------+\n",
       "  0| 0.1709497137955568| -0.8664700627108758|\n",
       "  1|0.03422639313807285| 0.45800664187768786|\n",
       "  2| 0.3654625958161396| 0.16420866768809156|\n",
       "  3| 0.4175019040792016| -1.0451987154313813|\n",
       "  4| 0.9899129399827472|  0.9543129239458202|\n",
       "  5|0.16452185994603707|  0.8306551181802446|\n",
       "  6|0.18141810315190554|  1.3792681955381285|\n",
       "  7|0.49595620559530806|-0.02511484514022299|\n",
       "  8| 0.9697474945375325|  0.5991404703866096|\n",
       "  9|0.07530606222259384|  1.7264843633887004|\n",
       "+---+-------------------+--------------------+\n",
       "\n",
       "</div>"
      ]
     },
     "metadata": {
      "application/vnd.databricks.v1+output": {
       "addedWidgets": {},
       "arguments": {},
       "data": "<div class=\"ansiout\">+---+-------------------+--------------------+\n| id|            uniform|              normal|\n+---+-------------------+--------------------+\n|  0| 0.1709497137955568| -0.8664700627108758|\n|  1|0.03422639313807285| 0.45800664187768786|\n|  2| 0.3654625958161396| 0.16420866768809156|\n|  3| 0.4175019040792016| -1.0451987154313813|\n|  4| 0.9899129399827472|  0.9543129239458202|\n|  5|0.16452185994603707|  0.8306551181802446|\n|  6|0.18141810315190554|  1.3792681955381285|\n|  7|0.49595620559530806|-0.02511484514022299|\n|  8| 0.9697474945375325|  0.5991404703866096|\n|  9|0.07530606222259384|  1.7264843633887004|\n+---+-------------------+--------------------+\n\n</div>",
       "datasetInfos": [],
       "removedWidgets": [],
       "type": "html"
      }
     },
     "output_type": "display_data"
    }
   ],
   "source": [
    "# Gere duas outras colunas usando distribuição uniforme e distribuição normal.\n",
    "df.select(\"id\", rand(seed=10).alias(\"uniform\"), randn(seed=27).alias(\"normal\")).show()"
   ]
  },
  {
   "cell_type": "markdown",
   "metadata": {
    "application/vnd.databricks.v1+cell": {
     "inputWidgets": {},
     "nuid": "4fa404f2-6dce-493e-9faa-5fa9bb018abb",
     "showTitle": false,
     "title": ""
    },
    "slideshow": {
     "slide_type": "slide"
    }
   },
   "source": [
    "# 2. Estatísticas de sumarização e descritivas\n",
    "A primeira operação a ser realizada após a importação de dados é para ter uma ideia de sua aparência. Para colunas numéricas, conhecer as estatísticas de resumo descritivo pode ajudar muito no entendimento da distribuição de seus dados. A função describe retorna um DataFrame contendo informações como número de entradas não nulas (contagem), média, desvio padrão e valores mínimo e máximo para cada coluna numérica."
   ]
  },
  {
   "cell_type": "code",
   "execution_count": 0,
   "metadata": {
    "application/vnd.databricks.v1+cell": {
     "inputWidgets": {},
     "nuid": "aa67515f-ca61-4a1a-8508-813016b9900e",
     "showTitle": false,
     "title": ""
    },
    "slideshow": {
     "slide_type": "slide"
    }
   },
   "outputs": [
    {
     "data": {
      "text/html": [
       "<style scoped>\n",
       "  .ansiout {\n",
       "    display: block;\n",
       "    unicode-bidi: embed;\n",
       "    white-space: pre-wrap;\n",
       "    word-wrap: break-word;\n",
       "    word-break: break-all;\n",
       "    font-family: \"Source Code Pro\", \"Menlo\", monospace;;\n",
       "    font-size: 13px;\n",
       "    color: #555;\n",
       "    margin-left: 4px;\n",
       "    line-height: 19px;\n",
       "  }\n",
       "</style>\n",
       "<div class=\"ansiout\"></div>"
      ]
     },
     "metadata": {
      "application/vnd.databricks.v1+output": {
       "addedWidgets": {},
       "arguments": {},
       "data": "<div class=\"ansiout\"></div>",
       "datasetInfos": [],
       "removedWidgets": [],
       "type": "html"
      }
     },
     "output_type": "display_data"
    }
   ],
   "source": [
    "from pyspark.sql.functions import rand, randn\n",
    "# Uma maneira ligeiramente diferente de gerar as duas colunas aleatórias\n",
    "df = sqlContext.range(0, 10).withColumn('uniform', rand(seed=10)).withColumn('normal', randn(seed=27))"
   ]
  },
  {
   "cell_type": "code",
   "execution_count": 0,
   "metadata": {
    "application/vnd.databricks.v1+cell": {
     "inputWidgets": {},
     "nuid": "601a7296-70aa-4e4b-b964-8861cd09bbcc",
     "showTitle": false,
     "title": ""
    },
    "slideshow": {
     "slide_type": "slide"
    }
   },
   "outputs": [
    {
     "data": {
      "text/html": [
       "<style scoped>\n",
       "  .ansiout {\n",
       "    display: block;\n",
       "    unicode-bidi: embed;\n",
       "    white-space: pre-wrap;\n",
       "    word-wrap: break-word;\n",
       "    word-break: break-all;\n",
       "    font-family: \"Source Code Pro\", \"Menlo\", monospace;;\n",
       "    font-size: 13px;\n",
       "    color: #555;\n",
       "    margin-left: 4px;\n",
       "    line-height: 19px;\n",
       "  }\n",
       "</style>\n",
       "<div class=\"ansiout\">+---+-------------------+--------------------+\n",
       " id|            uniform|              normal|\n",
       "+---+-------------------+--------------------+\n",
       "  0| 0.1709497137955568| -0.8664700627108758|\n",
       "  1|0.03422639313807285| 0.45800664187768786|\n",
       "  2| 0.3654625958161396| 0.16420866768809156|\n",
       "  3| 0.4175019040792016| -1.0451987154313813|\n",
       "  4| 0.9899129399827472|  0.9543129239458202|\n",
       "  5|0.16452185994603707|  0.8306551181802446|\n",
       "  6|0.18141810315190554|  1.3792681955381285|\n",
       "  7|0.49595620559530806|-0.02511484514022299|\n",
       "  8| 0.9697474945375325|  0.5991404703866096|\n",
       "  9|0.07530606222259384|  1.7264843633887004|\n",
       "+---+-------------------+--------------------+\n",
       "\n",
       "</div>"
      ]
     },
     "metadata": {
      "application/vnd.databricks.v1+output": {
       "addedWidgets": {},
       "arguments": {},
       "data": "<div class=\"ansiout\">+---+-------------------+--------------------+\n| id|            uniform|              normal|\n+---+-------------------+--------------------+\n|  0| 0.1709497137955568| -0.8664700627108758|\n|  1|0.03422639313807285| 0.45800664187768786|\n|  2| 0.3654625958161396| 0.16420866768809156|\n|  3| 0.4175019040792016| -1.0451987154313813|\n|  4| 0.9899129399827472|  0.9543129239458202|\n|  5|0.16452185994603707|  0.8306551181802446|\n|  6|0.18141810315190554|  1.3792681955381285|\n|  7|0.49595620559530806|-0.02511484514022299|\n|  8| 0.9697474945375325|  0.5991404703866096|\n|  9|0.07530606222259384|  1.7264843633887004|\n+---+-------------------+--------------------+\n\n</div>",
       "datasetInfos": [],
       "removedWidgets": [],
       "type": "html"
      }
     },
     "output_type": "display_data"
    }
   ],
   "source": [
    "df.show()"
   ]
  },
  {
   "cell_type": "markdown",
   "metadata": {
    "application/vnd.databricks.v1+cell": {
     "inputWidgets": {},
     "nuid": "f65ad26a-5663-4d33-9076-050e08c51d44",
     "showTitle": false,
     "title": ""
    },
    "slideshow": {
     "slide_type": "slide"
    }
   },
   "source": [
    "# Estatística descritiva\n",
    "A estatística descritiva pode ser entendida como uma ferramenta capaz de descrever ou resumir dados, mostrando aspectos importantes do conjunto de dados, como o tipo de distribuição associada e os valores mais representativos do conjunto, e permitindo criar visualizações referentes a tais aspectos.\n",
    "\n",
    "Para saber mais sobre [estatística descritiva](https://github.com/DeepFluxion/Analise_Dados_Linguagem_R/blob/master/Notebooks/Aula6_28_09_20.ipynb)\n",
    "Se você tiver um DataFrame com um grande número de colunas, também pode executar `describe()` em um subconjunto das colunas:"
   ]
  },
  {
   "cell_type": "code",
   "execution_count": 0,
   "metadata": {
    "application/vnd.databricks.v1+cell": {
     "inputWidgets": {},
     "nuid": "12e62cd7-e802-49f5-ba17-f9cf7c91e330",
     "showTitle": false,
     "title": ""
    },
    "slideshow": {
     "slide_type": "slide"
    }
   },
   "outputs": [
    {
     "data": {
      "text/html": [
       "<style scoped>\n",
       "  .ansiout {\n",
       "    display: block;\n",
       "    unicode-bidi: embed;\n",
       "    white-space: pre-wrap;\n",
       "    word-wrap: break-word;\n",
       "    word-break: break-all;\n",
       "    font-family: \"Source Code Pro\", \"Menlo\", monospace;;\n",
       "    font-size: 13px;\n",
       "    color: #555;\n",
       "    margin-left: 4px;\n",
       "    line-height: 19px;\n",
       "  }\n",
       "</style>\n",
       "<div class=\"ansiout\">+-------+-------------------+-------------------+\n",
       "summary|            uniform|             normal|\n",
       "+-------+-------------------+-------------------+\n",
       "  count|                 10|                 10|\n",
       "   mean| 0.3865003272265095| 0.4175292757722803|\n",
       " stddev|0.34583270415314343| 0.8931883269570855|\n",
       "    min|0.03422639313807285|-1.0451987154313813|\n",
       "    max| 0.9899129399827472| 1.7264843633887004|\n",
       "+-------+-------------------+-------------------+\n",
       "\n",
       "</div>"
      ]
     },
     "metadata": {
      "application/vnd.databricks.v1+output": {
       "addedWidgets": {},
       "arguments": {},
       "data": "<div class=\"ansiout\">+-------+-------------------+-------------------+\n|summary|            uniform|             normal|\n+-------+-------------------+-------------------+\n|  count|                 10|                 10|\n|   mean| 0.3865003272265095| 0.4175292757722803|\n| stddev|0.34583270415314343| 0.8931883269570855|\n|    min|0.03422639313807285|-1.0451987154313813|\n|    max| 0.9899129399827472| 1.7264843633887004|\n+-------+-------------------+-------------------+\n\n</div>",
       "datasetInfos": [],
       "removedWidgets": [],
       "type": "html"
      }
     },
     "output_type": "display_data"
    }
   ],
   "source": [
    "df.describe('uniform', 'normal').show()"
   ]
  },
  {
   "cell_type": "markdown",
   "metadata": {
    "application/vnd.databricks.v1+cell": {
     "inputWidgets": {},
     "nuid": "57df6d17-11de-4420-9b8c-ef31f9a69ad6",
     "showTitle": false,
     "title": ""
    },
    "slideshow": {
     "slide_type": "slide"
    }
   },
   "source": [
    "Obviamente, embora a descrição funcione bem para uma análise exploratória rápida de dados, você também pode controlar a lista de estatísticas descritivas e as colunas às quais se aplicam usando a seleção normal em um DataFrame:"
   ]
  },
  {
   "cell_type": "code",
   "execution_count": 0,
   "metadata": {
    "application/vnd.databricks.v1+cell": {
     "inputWidgets": {},
     "nuid": "22ec9c07-bfe4-4c0b-983c-bc6aada04e9a",
     "showTitle": false,
     "title": ""
    },
    "slideshow": {
     "slide_type": "slide"
    }
   },
   "outputs": [
    {
     "data": {
      "text/html": [
       "<style scoped>\n",
       "  .ansiout {\n",
       "    display: block;\n",
       "    unicode-bidi: embed;\n",
       "    white-space: pre-wrap;\n",
       "    word-wrap: break-word;\n",
       "    word-break: break-all;\n",
       "    font-family: \"Source Code Pro\", \"Menlo\", monospace;;\n",
       "    font-size: 13px;\n",
       "    color: #555;\n",
       "    margin-left: 4px;\n",
       "    line-height: 19px;\n",
       "  }\n",
       "</style>\n",
       "<div class=\"ansiout\">+------------------+-------------------+------------------+\n",
       "      avg(uniform)|       min(uniform)|      max(uniform)|\n",
       "+------------------+-------------------+------------------+\n",
       "0.3865003272265095|0.03422639313807285|0.9899129399827472|\n",
       "+------------------+-------------------+------------------+\n",
       "\n",
       "</div>"
      ]
     },
     "metadata": {
      "application/vnd.databricks.v1+output": {
       "addedWidgets": {},
       "arguments": {},
       "data": "<div class=\"ansiout\">+------------------+-------------------+------------------+\n|      avg(uniform)|       min(uniform)|      max(uniform)|\n+------------------+-------------------+------------------+\n|0.3865003272265095|0.03422639313807285|0.9899129399827472|\n+------------------+-------------------+------------------+\n\n</div>",
       "datasetInfos": [],
       "removedWidgets": [],
       "type": "html"
      }
     },
     "output_type": "display_data"
    }
   ],
   "source": [
    "from pyspark.sql.functions import mean, min, max\n",
    "df.select([mean('uniform'), min('uniform'), max('uniform')]).show()"
   ]
  },
  {
   "cell_type": "code",
   "execution_count": 0,
   "metadata": {
    "application/vnd.databricks.v1+cell": {
     "inputWidgets": {},
     "nuid": "ebb0f137-0afc-4fb7-8afc-dfeeaaf9355c",
     "showTitle": false,
     "title": ""
    },
    "slideshow": {
     "slide_type": "slide"
    }
   },
   "outputs": [
    {
     "data": {
      "text/html": [
       "<style scoped>\n",
       "  .ansiout {\n",
       "    display: block;\n",
       "    unicode-bidi: embed;\n",
       "    white-space: pre-wrap;\n",
       "    word-wrap: break-word;\n",
       "    word-break: break-all;\n",
       "    font-family: \"Source Code Pro\", \"Menlo\", monospace;;\n",
       "    font-size: 13px;\n",
       "    color: #555;\n",
       "    margin-left: 4px;\n",
       "    line-height: 19px;\n",
       "  }\n",
       "</style>\n",
       "<div class=\"ansiout\">+------------------+-------------------+------------------+\n",
       "       avg(normal)|        min(normal)|       max(normal)|\n",
       "+------------------+-------------------+------------------+\n",
       "0.4175292757722803|-1.0451987154313813|1.7264843633887004|\n",
       "+------------------+-------------------+------------------+\n",
       "\n",
       "</div>"
      ]
     },
     "metadata": {
      "application/vnd.databricks.v1+output": {
       "addedWidgets": {},
       "arguments": {},
       "data": "<div class=\"ansiout\">+------------------+-------------------+------------------+\n|       avg(normal)|        min(normal)|       max(normal)|\n+------------------+-------------------+------------------+\n|0.4175292757722803|-1.0451987154313813|1.7264843633887004|\n+------------------+-------------------+------------------+\n\n</div>",
       "datasetInfos": [],
       "removedWidgets": [],
       "type": "html"
      }
     },
     "output_type": "display_data"
    }
   ],
   "source": [
    "df.select([mean('normal'), min('normal'), max('normal')]).show()"
   ]
  },
  {
   "cell_type": "markdown",
   "metadata": {
    "application/vnd.databricks.v1+cell": {
     "inputWidgets": {},
     "nuid": "53159d5d-c051-49ba-8add-689a0e147863",
     "showTitle": false,
     "title": ""
    },
    "slideshow": {
     "slide_type": "slide"
    }
   },
   "source": [
    "# 3. Covariância e Correlação de uma Amostra\n",
    "\n",
    "Covariância é uma medida de como duas variáveis mudam uma em relação à outra. Um número positivo significaria que há uma tendência de que, à medida que uma variável aumenta, a outra também aumenta. Um número negativo significaria que à medida que uma variável aumenta, a outra variável tem uma tendência de diminuir. A Formula da Covariância é :\n",
    "$$\n",
    "S_{xy} = \\sum_{i=1}^{n} (x_i - \\bar{x})(y_i - \\bar{y})\n",
    "$$\n",
    "Link:\n",
    "\n",
    " [Covariância](https://pt.wikipedia.org/wiki/Covari%C3%A2ncia#:~:text=Em%20teoria%20da%20probabilidade%20e,vari%C3%A1veis%20independentes%20t%C3%AAm%20covari%C3%A2ncia%20zero.)\n",
    " \n",
    " [Correlação](https://pt.wikipedia.org/wiki/Correla%C3%A7%C3%A3o) \n",
    " \n",
    "A covariância de amostra de duas colunas de um DataFrame pode ser calculada da seguinte forma:"
   ]
  },
  {
   "cell_type": "code",
   "execution_count": 0,
   "metadata": {
    "application/vnd.databricks.v1+cell": {
     "inputWidgets": {},
     "nuid": "e6306475-6eb2-4b1a-a0be-2511b66d1665",
     "showTitle": false,
     "title": ""
    },
    "slideshow": {
     "slide_type": "slide"
    }
   },
   "outputs": [
    {
     "data": {
      "text/html": [
       "<style scoped>\n",
       "  .ansiout {\n",
       "    display: block;\n",
       "    unicode-bidi: embed;\n",
       "    white-space: pre-wrap;\n",
       "    word-wrap: break-word;\n",
       "    word-break: break-all;\n",
       "    font-family: \"Source Code Pro\", \"Menlo\", monospace;;\n",
       "    font-size: 13px;\n",
       "    color: #555;\n",
       "    margin-left: 4px;\n",
       "    line-height: 19px;\n",
       "  }\n",
       "</style>\n",
       "<div class=\"ansiout\">+---+-------------------+-------------------+\n",
       " id|              rand1|              rand2|\n",
       "+---+-------------------+-------------------+\n",
       "  0| 0.1709497137955568| 0.8894415403143504|\n",
       "  1| 0.8051143958005459| 0.9658033539477212|\n",
       "  2| 0.5775925576589018|0.18783354174799438|\n",
       "  3| 0.9476047869880925|0.28489885393300474|\n",
       "  4|    0.2093704977577| 0.5207165345237337|\n",
       "  5|0.36664222617947817|   0.29022461831445|\n",
       "  6| 0.8078688178371882| 0.7962482611496515|\n",
       "  7| 0.7135143433452461| 0.2948555807675217|\n",
       "  8| 0.7195325566306053| 0.8406404286538152|\n",
       "  9|0.31335292311175456|0.05654934737553252|\n",
       " 10| 0.8062503712025726| 0.5591744861079746|\n",
       " 11|0.10814914646176654|0.31446013845788146|\n",
       " 12|0.03422639313807285|  0.808152402708103|\n",
       " 13|0.11682250456449328| 0.1753332481572636|\n",
       " 14| 0.3252227809451943| 0.9894530945118741|\n",
       " 15| 0.4358851046481089| 0.7275724505361818|\n",
       " 16|0.27831507107951303|   0.72995211246392|\n",
       " 17| 0.8601856145216583|0.30284571233687096|\n",
       " 18| 0.8069471711557737| 0.9569877068769661|\n",
       " 19| 0.2718207931603598| 0.4974632546664315|\n",
       "+---+-------------------+-------------------+\n",
       "only showing top 20 rows\n",
       "\n",
       "</div>"
      ]
     },
     "metadata": {
      "application/vnd.databricks.v1+output": {
       "addedWidgets": {},
       "arguments": {},
       "data": "<div class=\"ansiout\">+---+-------------------+-------------------+\n| id|              rand1|              rand2|\n+---+-------------------+-------------------+\n|  0| 0.1709497137955568| 0.8894415403143504|\n|  1| 0.8051143958005459| 0.9658033539477212|\n|  2| 0.5775925576589018|0.18783354174799438|\n|  3| 0.9476047869880925|0.28489885393300474|\n|  4|    0.2093704977577| 0.5207165345237337|\n|  5|0.36664222617947817|   0.29022461831445|\n|  6| 0.8078688178371882| 0.7962482611496515|\n|  7| 0.7135143433452461| 0.2948555807675217|\n|  8| 0.7195325566306053| 0.8406404286538152|\n|  9|0.31335292311175456|0.05654934737553252|\n| 10| 0.8062503712025726| 0.5591744861079746|\n| 11|0.10814914646176654|0.31446013845788146|\n| 12|0.03422639313807285|  0.808152402708103|\n| 13|0.11682250456449328| 0.1753332481572636|\n| 14| 0.3252227809451943| 0.9894530945118741|\n| 15| 0.4358851046481089| 0.7275724505361818|\n| 16|0.27831507107951303|   0.72995211246392|\n| 17| 0.8601856145216583|0.30284571233687096|\n| 18| 0.8069471711557737| 0.9569877068769661|\n| 19| 0.2718207931603598| 0.4974632546664315|\n+---+-------------------+-------------------+\nonly showing top 20 rows\n\n</div>",
       "datasetInfos": [],
       "removedWidgets": [],
       "type": "html"
      }
     },
     "output_type": "display_data"
    }
   ],
   "source": [
    "from pyspark.sql.functions import rand\n",
    "df = sqlContext.range(0, 100).withColumn('rand1', rand(seed=10)).withColumn('rand2', rand(seed=27))\n",
    "df.show()"
   ]
  },
  {
   "cell_type": "code",
   "execution_count": 0,
   "metadata": {
    "application/vnd.databricks.v1+cell": {
     "inputWidgets": {},
     "nuid": "1c2f875d-dc49-4094-a04b-b33505869882",
     "showTitle": false,
     "title": ""
    },
    "slideshow": {
     "slide_type": "slide"
    }
   },
   "outputs": [
    {
     "data": {
      "text/html": [
       "<style scoped>\n",
       "  .ansiout {\n",
       "    display: block;\n",
       "    unicode-bidi: embed;\n",
       "    white-space: pre-wrap;\n",
       "    word-wrap: break-word;\n",
       "    word-break: break-all;\n",
       "    font-family: \"Source Code Pro\", \"Menlo\", monospace;;\n",
       "    font-size: 13px;\n",
       "    color: #555;\n",
       "    margin-left: 4px;\n",
       "    line-height: 19px;\n",
       "  }\n",
       "</style>\n",
       "<div class=\"ansiout\">Out[47]: -0.002486082615606523</div>"
      ]
     },
     "metadata": {
      "application/vnd.databricks.v1+output": {
       "addedWidgets": {},
       "arguments": {},
       "data": "<div class=\"ansiout\">Out[47]: -0.002486082615606523</div>",
       "datasetInfos": [],
       "removedWidgets": [],
       "type": "html"
      }
     },
     "output_type": "display_data"
    }
   ],
   "source": [
    "df.stat.cov('rand1', 'rand2')"
   ]
  },
  {
   "cell_type": "code",
   "execution_count": 0,
   "metadata": {
    "application/vnd.databricks.v1+cell": {
     "inputWidgets": {},
     "nuid": "64cececa-640f-4b05-831e-371328fce588",
     "showTitle": false,
     "title": ""
    },
    "slideshow": {
     "slide_type": "slide"
    }
   },
   "outputs": [
    {
     "data": {
      "text/html": [
       "<style scoped>\n",
       "  .ansiout {\n",
       "    display: block;\n",
       "    unicode-bidi: embed;\n",
       "    white-space: pre-wrap;\n",
       "    word-wrap: break-word;\n",
       "    word-break: break-all;\n",
       "    font-family: \"Source Code Pro\", \"Menlo\", monospace;;\n",
       "    font-size: 13px;\n",
       "    color: #555;\n",
       "    margin-left: 4px;\n",
       "    line-height: 19px;\n",
       "  }\n",
       "</style>\n",
       "<div class=\"ansiout\">Out[48]: 841.6666666666666</div>"
      ]
     },
     "metadata": {
      "application/vnd.databricks.v1+output": {
       "addedWidgets": {},
       "arguments": {},
       "data": "<div class=\"ansiout\">Out[48]: 841.6666666666666</div>",
       "datasetInfos": [],
       "removedWidgets": [],
       "type": "html"
      }
     },
     "output_type": "display_data"
    }
   ],
   "source": [
    "df.stat.cov('id', 'id')"
   ]
  },
  {
   "cell_type": "code",
   "execution_count": 0,
   "metadata": {
    "application/vnd.databricks.v1+cell": {
     "inputWidgets": {},
     "nuid": "90a7e3ec-9901-489c-951d-6c3fefdd30d2",
     "showTitle": false,
     "title": ""
    },
    "slideshow": {
     "slide_type": "slide"
    }
   },
   "outputs": [
    {
     "data": {
      "text/html": [
       "<style scoped>\n",
       "  .table-result-container {\n",
       "    max-height: 300px;\n",
       "    overflow: auto;\n",
       "  }\n",
       "  table, th, td {\n",
       "    border: 1px solid black;\n",
       "    border-collapse: collapse;\n",
       "  }\n",
       "  th, td {\n",
       "    padding: 5px;\n",
       "  }\n",
       "  th {\n",
       "    text-align: left;\n",
       "  }\n",
       "</style><div class='table-result-container'><table class='table-result'><thead style='background-color: white'><tr><th>id</th><th>rand1</th><th>rand2</th></tr></thead><tbody><tr><td>0</td><td>0.1709497137955568</td><td>0.8894415403143504</td></tr><tr><td>1</td><td>0.8051143958005459</td><td>0.9658033539477212</td></tr><tr><td>2</td><td>0.5775925576589018</td><td>0.18783354174799438</td></tr><tr><td>3</td><td>0.9476047869880925</td><td>0.28489885393300474</td></tr><tr><td>4</td><td>0.2093704977577</td><td>0.5207165345237337</td></tr><tr><td>5</td><td>0.36664222617947817</td><td>0.29022461831445</td></tr><tr><td>6</td><td>0.8078688178371882</td><td>0.7962482611496515</td></tr><tr><td>7</td><td>0.7135143433452461</td><td>0.2948555807675217</td></tr><tr><td>8</td><td>0.7195325566306053</td><td>0.8406404286538152</td></tr><tr><td>9</td><td>0.31335292311175456</td><td>0.05654934737553252</td></tr><tr><td>10</td><td>0.8062503712025726</td><td>0.5591744861079746</td></tr><tr><td>11</td><td>0.10814914646176654</td><td>0.31446013845788146</td></tr><tr><td>12</td><td>0.03422639313807285</td><td>0.808152402708103</td></tr><tr><td>13</td><td>0.11682250456449328</td><td>0.1753332481572636</td></tr><tr><td>14</td><td>0.3252227809451943</td><td>0.9894530945118741</td></tr><tr><td>15</td><td>0.4358851046481089</td><td>0.7275724505361818</td></tr><tr><td>16</td><td>0.27831507107951303</td><td>0.72995211246392</td></tr><tr><td>17</td><td>0.8601856145216583</td><td>0.30284571233687096</td></tr><tr><td>18</td><td>0.8069471711557737</td><td>0.9569877068769661</td></tr><tr><td>19</td><td>0.2718207931603598</td><td>0.4974632546664315</td></tr><tr><td>20</td><td>0.024885359103782312</td><td>0.6266641128869758</td></tr><tr><td>21</td><td>0.6157605779455242</td><td>0.6178456003499149</td></tr><tr><td>22</td><td>0.1474871940150151</td><td>0.9878875566514242</td></tr><tr><td>23</td><td>0.7455590822549971</td><td>0.4422359438619977</td></tr><tr><td>24</td><td>0.882544670278329</td><td>0.02342364080562409</td></tr><tr><td>25</td><td>0.3654625958161396</td><td>0.5956629641640896</td></tr><tr><td>26</td><td>0.9312570034742369</td><td>0.07569285135201276</td></tr><tr><td>27</td><td>0.7034605472341491</td><td>0.19793470293910964</td></tr><tr><td>28</td><td>0.16359268254263504</td><td>0.9201247562649396</td></tr><tr><td>29</td><td>0.006325801241737317</td><td>0.4951088943311982</td></tr><tr><td>30</td><td>0.4588562955492431</td><td>0.7424638427592041</td></tr><tr><td>31</td><td>0.22297193961896744</td><td>0.5845951940334293</td></tr><tr><td>32</td><td>0.9403286174320025</td><td>0.48295159830255774</td></tr><tr><td>33</td><td>0.3269925320700604</td><td>0.4470870685518621</td></tr><tr><td>34</td><td>0.4320341876787328</td><td>0.027739543799642163</td></tr><tr><td>35</td><td>0.3141315678014228</td><td>0.36330201528805184</td></tr><tr><td>36</td><td>0.28000239881878</td><td>0.5871154606498779</td></tr><tr><td>37</td><td>0.4175019040792016</td><td>0.2762195585886885</td></tr><tr><td>38</td><td>0.9899129399827472</td><td>0.7043214981152885</td></tr><tr><td>39</td><td>0.48359971255227285</td><td>0.7035226295580093</td></tr><tr><td>40</td><td>0.6070081240379598</td><td>0.8380966150825057</td></tr><tr><td>41</td><td>0.4013942674751203</td><td>0.8835135945440782</td></tr><tr><td>42</td><td>0.8987265859464685</td><td>0.5923849157974947</td></tr><tr><td>43</td><td>0.6520429132273503</td><td>0.43220817731475814</td></tr><tr><td>44</td><td>0.004425706749181635</td><td>0.880735754028304</td></tr><tr><td>45</td><td>0.14592366468922524</td><td>0.33024111590957583</td></tr><tr><td>46</td><td>0.31150008895600867</td><td>0.13800602454073596</td></tr><tr><td>47</td><td>0.4395030761034342</td><td>0.2614889141564005</td></tr><tr><td>48</td><td>0.21216903017825883</td><td>0.7895182330674836</td></tr><tr><td>49</td><td>0.8154639353660922</td><td>0.6947145509640906</td></tr><tr><td>50</td><td>0.16452185994603707</td><td>0.8378244793454831</td></tr><tr><td>51</td><td>0.5459559484957036</td><td>0.29536022742251444</td></tr><tr><td>52</td><td>0.7822790280360283</td><td>0.8565511892993495</td></tr><tr><td>53</td><td>0.8021215157376222</td><td>0.9821531554369161</td></tr><tr><td>54</td><td>0.8565141867349828</td><td>0.17927760026257955</td></tr><tr><td>55</td><td>0.36496896232501697</td><td>0.8964052289391221</td></tr><tr><td>56</td><td>0.8544350240494869</td><td>0.7692057614901133</td></tr><tr><td>57</td><td>0.7954643720935383</td><td>0.8119809929286291</td></tr><tr><td>58</td><td>0.18997686828126048</td><td>0.7838480498901204</td></tr><tr><td>59</td><td>0.12058418424328521</td><td>0.5572747105291548</td></tr><tr><td>60</td><td>0.30663833201615043</td><td>1.0319437611205906E-5</td></tr><tr><td>61</td><td>0.8085008837086494</td><td>0.6394495849209572</td></tr><tr><td>62</td><td>0.18141810315190554</td><td>0.6340859398860077</td></tr><tr><td>63</td><td>0.626988129685516</td><td>0.6357756843319952</td></tr><tr><td>64</td><td>0.35421803636733495</td><td>0.6409166247627097</td></tr><tr><td>65</td><td>0.21101605231806198</td><td>0.3251767344165949</td></tr><tr><td>66</td><td>0.8189059402224587</td><td>0.9823027033561212</td></tr><tr><td>67</td><td>0.6920078838955664</td><td>0.5406476778374698</td></tr><tr><td>68</td><td>0.7664589254286232</td><td>0.7573712131958099</td></tr><tr><td>69</td><td>0.5541206475613204</td><td>0.3810688031778693</td></tr><tr><td>70</td><td>0.3621346554845799</td><td>0.5752204757675495</td></tr><tr><td>71</td><td>0.48110035768197124</td><td>0.5126376755878508</td></tr><tr><td>72</td><td>0.18924905548078141</td><td>0.27862496712973295</td></tr><tr><td>73</td><td>0.4865077798603922</td><td>0.25597805586728883</td></tr><tr><td>74</td><td>0.6609186090133667</td><td>0.38501494588587915</td></tr><tr><td>75</td><td>0.49595620559530806</td><td>0.49326717925251506</td></tr><tr><td>76</td><td>0.16822045403825436</td><td>0.8368314075624957</td></tr><tr><td>77</td><td>0.13115056787449664</td><td>0.07092776690477642</td></tr><tr><td>78</td><td>0.168048197073298</td><td>0.6123436564417691</td></tr><tr><td>79</td><td>0.28186255193787635</td><td>0.13175370850461132</td></tr><tr><td>80</td><td>0.8495582268567247</td><td>0.536026907401182</td></tr><tr><td>81</td><td>0.5669786627146989</td><td>0.3118062877684876</td></tr><tr><td>82</td><td>0.6837540042282528</td><td>0.9884755156555473</td></tr><tr><td>83</td><td>0.5502421501153059</td><td>0.014912440519675663</td></tr><tr><td>84</td><td>0.5138617487626886</td><td>0.9519555908393653</td></tr><tr><td>85</td><td>0.4654452351006859</td><td>0.16159244039067233</td></tr><tr><td>86</td><td>0.8107635521563324</td><td>0.2534818791692012</td></tr><tr><td>87</td><td>0.9697474945375325</td><td>0.5711276669097988</td></tr><tr><td>88</td><td>0.07530606222259384</td><td>0.7049616255180481</td></tr><tr><td>89</td><td>0.05242657018696939</td><td>0.053205020580506135</td></tr><tr><td>90</td><td>0.5448652870760927</td><td>0.038146045367657644</td></tr><tr><td>91</td><td>0.3298954444401243</td><td>0.4127050216611743</td></tr><tr><td>92</td><td>0.6546444268418184</td><td>0.48735045457992643</td></tr><tr><td>93</td><td>0.8363336558573685</td><td>0.06832987433144466</td></tr><tr><td>94</td><td>0.6419036991373893</td><td>0.5475127518563576</td></tr><tr><td>95</td><td>0.04167835501921968</td><td>0.5128569745826187</td></tr><tr><td>96</td><td>0.7032825170505205</td><td>0.5019459397983789</td></tr><tr><td>97</td><td>0.7062303175127245</td><td>0.20912301370207464</td></tr><tr><td>98</td><td>0.806547789808454</td><td>0.30509510873481904</td></tr><tr><td>99</td><td>0.7696997904523026</td><td>0.3174017918971779</td></tr></tbody></table></div>"
      ]
     },
     "metadata": {
      "application/vnd.databricks.v1+output": {
       "addedWidgets": {},
       "aggData": [],
       "aggError": "",
       "aggOverflow": false,
       "aggSchema": [],
       "aggSeriesLimitReached": false,
       "aggType": "",
       "arguments": {},
       "columnCustomDisplayInfos": {},
       "data": [
        [
         0,
         0.1709497137955568,
         0.8894415403143504
        ],
        [
         1,
         0.8051143958005459,
         0.9658033539477212
        ],
        [
         2,
         0.5775925576589018,
         0.18783354174799438
        ],
        [
         3,
         0.9476047869880925,
         0.28489885393300474
        ],
        [
         4,
         0.2093704977577,
         0.5207165345237337
        ],
        [
         5,
         0.36664222617947817,
         0.29022461831445
        ],
        [
         6,
         0.8078688178371882,
         0.7962482611496515
        ],
        [
         7,
         0.7135143433452461,
         0.2948555807675217
        ],
        [
         8,
         0.7195325566306053,
         0.8406404286538152
        ],
        [
         9,
         0.31335292311175456,
         0.05654934737553252
        ],
        [
         10,
         0.8062503712025726,
         0.5591744861079746
        ],
        [
         11,
         0.10814914646176654,
         0.31446013845788146
        ],
        [
         12,
         0.03422639313807285,
         0.808152402708103
        ],
        [
         13,
         0.11682250456449328,
         0.1753332481572636
        ],
        [
         14,
         0.3252227809451943,
         0.9894530945118741
        ],
        [
         15,
         0.4358851046481089,
         0.7275724505361818
        ],
        [
         16,
         0.27831507107951303,
         0.72995211246392
        ],
        [
         17,
         0.8601856145216583,
         0.30284571233687096
        ],
        [
         18,
         0.8069471711557737,
         0.9569877068769661
        ],
        [
         19,
         0.2718207931603598,
         0.4974632546664315
        ],
        [
         20,
         0.024885359103782312,
         0.6266641128869758
        ],
        [
         21,
         0.6157605779455242,
         0.6178456003499149
        ],
        [
         22,
         0.1474871940150151,
         0.9878875566514242
        ],
        [
         23,
         0.7455590822549971,
         0.4422359438619977
        ],
        [
         24,
         0.882544670278329,
         0.02342364080562409
        ],
        [
         25,
         0.3654625958161396,
         0.5956629641640896
        ],
        [
         26,
         0.9312570034742369,
         0.07569285135201276
        ],
        [
         27,
         0.7034605472341491,
         0.19793470293910964
        ],
        [
         28,
         0.16359268254263504,
         0.9201247562649396
        ],
        [
         29,
         0.006325801241737317,
         0.4951088943311982
        ],
        [
         30,
         0.4588562955492431,
         0.7424638427592041
        ],
        [
         31,
         0.22297193961896744,
         0.5845951940334293
        ],
        [
         32,
         0.9403286174320025,
         0.48295159830255774
        ],
        [
         33,
         0.3269925320700604,
         0.4470870685518621
        ],
        [
         34,
         0.4320341876787328,
         0.027739543799642163
        ],
        [
         35,
         0.3141315678014228,
         0.36330201528805184
        ],
        [
         36,
         0.28000239881878,
         0.5871154606498779
        ],
        [
         37,
         0.4175019040792016,
         0.2762195585886885
        ],
        [
         38,
         0.9899129399827472,
         0.7043214981152885
        ],
        [
         39,
         0.48359971255227285,
         0.7035226295580093
        ],
        [
         40,
         0.6070081240379598,
         0.8380966150825057
        ],
        [
         41,
         0.4013942674751203,
         0.8835135945440782
        ],
        [
         42,
         0.8987265859464685,
         0.5923849157974947
        ],
        [
         43,
         0.6520429132273503,
         0.43220817731475814
        ],
        [
         44,
         0.004425706749181635,
         0.880735754028304
        ],
        [
         45,
         0.14592366468922524,
         0.33024111590957583
        ],
        [
         46,
         0.31150008895600867,
         0.13800602454073596
        ],
        [
         47,
         0.4395030761034342,
         0.2614889141564005
        ],
        [
         48,
         0.21216903017825883,
         0.7895182330674836
        ],
        [
         49,
         0.8154639353660922,
         0.6947145509640906
        ],
        [
         50,
         0.16452185994603707,
         0.8378244793454831
        ],
        [
         51,
         0.5459559484957036,
         0.29536022742251444
        ],
        [
         52,
         0.7822790280360283,
         0.8565511892993495
        ],
        [
         53,
         0.8021215157376222,
         0.9821531554369161
        ],
        [
         54,
         0.8565141867349828,
         0.17927760026257955
        ],
        [
         55,
         0.36496896232501697,
         0.8964052289391221
        ],
        [
         56,
         0.8544350240494869,
         0.7692057614901133
        ],
        [
         57,
         0.7954643720935383,
         0.8119809929286291
        ],
        [
         58,
         0.18997686828126048,
         0.7838480498901204
        ],
        [
         59,
         0.12058418424328521,
         0.5572747105291548
        ],
        [
         60,
         0.30663833201615043,
         1.0319437611205906e-05
        ],
        [
         61,
         0.8085008837086494,
         0.6394495849209572
        ],
        [
         62,
         0.18141810315190554,
         0.6340859398860077
        ],
        [
         63,
         0.626988129685516,
         0.6357756843319952
        ],
        [
         64,
         0.35421803636733495,
         0.6409166247627097
        ],
        [
         65,
         0.21101605231806198,
         0.3251767344165949
        ],
        [
         66,
         0.8189059402224587,
         0.9823027033561212
        ],
        [
         67,
         0.6920078838955664,
         0.5406476778374698
        ],
        [
         68,
         0.7664589254286232,
         0.7573712131958099
        ],
        [
         69,
         0.5541206475613204,
         0.3810688031778693
        ],
        [
         70,
         0.3621346554845799,
         0.5752204757675495
        ],
        [
         71,
         0.48110035768197124,
         0.5126376755878508
        ],
        [
         72,
         0.18924905548078141,
         0.27862496712973295
        ],
        [
         73,
         0.4865077798603922,
         0.25597805586728883
        ],
        [
         74,
         0.6609186090133667,
         0.38501494588587915
        ],
        [
         75,
         0.49595620559530806,
         0.49326717925251506
        ],
        [
         76,
         0.16822045403825436,
         0.8368314075624957
        ],
        [
         77,
         0.13115056787449664,
         0.07092776690477642
        ],
        [
         78,
         0.168048197073298,
         0.6123436564417691
        ],
        [
         79,
         0.28186255193787635,
         0.13175370850461132
        ],
        [
         80,
         0.8495582268567247,
         0.536026907401182
        ],
        [
         81,
         0.5669786627146989,
         0.3118062877684876
        ],
        [
         82,
         0.6837540042282528,
         0.9884755156555473
        ],
        [
         83,
         0.5502421501153059,
         0.014912440519675663
        ],
        [
         84,
         0.5138617487626886,
         0.9519555908393653
        ],
        [
         85,
         0.4654452351006859,
         0.16159244039067233
        ],
        [
         86,
         0.8107635521563324,
         0.2534818791692012
        ],
        [
         87,
         0.9697474945375325,
         0.5711276669097988
        ],
        [
         88,
         0.07530606222259384,
         0.7049616255180481
        ],
        [
         89,
         0.05242657018696939,
         0.053205020580506135
        ],
        [
         90,
         0.5448652870760927,
         0.038146045367657644
        ],
        [
         91,
         0.3298954444401243,
         0.4127050216611743
        ],
        [
         92,
         0.6546444268418184,
         0.48735045457992643
        ],
        [
         93,
         0.8363336558573685,
         0.06832987433144466
        ],
        [
         94,
         0.6419036991373893,
         0.5475127518563576
        ],
        [
         95,
         0.04167835501921968,
         0.5128569745826187
        ],
        [
         96,
         0.7032825170505205,
         0.5019459397983789
        ],
        [
         97,
         0.7062303175127245,
         0.20912301370207464
        ],
        [
         98,
         0.806547789808454,
         0.30509510873481904
        ],
        [
         99,
         0.7696997904523026,
         0.3174017918971779
        ]
       ],
       "datasetInfos": [],
       "dbfsResultPath": null,
       "isJsonSchema": true,
       "overflow": false,
       "plotOptions": {
        "customPlotOptions": {
         "histogram": [
          {
           "key": "bins",
           "value": ""
          }
         ],
         "scatterPlot": [
          {
           "key": "loess",
           "value": false
          },
          {
           "key": "bandwidth",
           "value": "0.99"
          }
         ]
        },
        "displayType": "scatterPlot",
        "pivotAggregation": "sum",
        "pivotColumns": [],
        "xColumns": [],
        "yColumns": [
         "rand2",
         "rand1"
        ]
       },
       "removedWidgets": [],
       "schema": [
        {
         "metadata": "{}",
         "name": "id",
         "type": "\"long\""
        },
        {
         "metadata": "{}",
         "name": "rand1",
         "type": "\"double\""
        },
        {
         "metadata": "{}",
         "name": "rand2",
         "type": "\"double\""
        }
       ],
       "type": "table"
      }
     },
     "output_type": "display_data"
    }
   ],
   "source": [
    "df.display()"
   ]
  },
  {
   "cell_type": "markdown",
   "metadata": {
    "application/vnd.databricks.v1+cell": {
     "inputWidgets": {},
     "nuid": "4fc14a09-1c7e-419f-8109-873c04fe3a74",
     "showTitle": false,
     "title": ""
    },
    "slideshow": {
     "slide_type": "slide"
    }
   },
   "source": [
    "Como você pode ver acima, a covariância das duas colunas geradas aleatoriamente é próxima de zero, enquanto a covariância da coluna id com ela mesma é muito alta.\n",
    "\n",
    "O valor de covariância de 842 pode ser difícil de interpretar."
   ]
  },
  {
   "cell_type": "markdown",
   "metadata": {
    "application/vnd.databricks.v1+cell": {
     "inputWidgets": {},
     "nuid": "9da7aa09-e33a-4936-a5b5-3e84370df5be",
     "showTitle": false,
     "title": ""
    }
   },
   "source": [
    "Correlação é uma medida normalizada de covariância que é mais fácil de entender, pois fornece medidas quantitativas da dependência estatística entre duas variáveis aleatórias.\n",
    "$$\n",
    "r = \\frac{{}\\sum_{i=1}^{n} (x_i - \\overline{x})(y_i - \\overline{y})}\n",
    "{\\sqrt{\\sum_{i=1}^{n} (x_i - \\overline{x})^2(y_i - \\overline{y})^2}}\n",
    "$$\n",
    "veja mais sobre correlação neste [link](https://github.com/DeepFluxion/Analise_Dados_Linguagem_R/blob/master/Notebooks/Aula_7_05_10_20.ipynb)"
   ]
  },
  {
   "cell_type": "code",
   "execution_count": 0,
   "metadata": {
    "application/vnd.databricks.v1+cell": {
     "inputWidgets": {},
     "nuid": "1cd5d0cf-4e61-4602-b853-ea88b6c48537",
     "showTitle": false,
     "title": ""
    },
    "slideshow": {
     "slide_type": "slide"
    }
   },
   "outputs": [
    {
     "data": {
      "text/html": [
       "<style scoped>\n",
       "  .ansiout {\n",
       "    display: block;\n",
       "    unicode-bidi: embed;\n",
       "    white-space: pre-wrap;\n",
       "    word-wrap: break-word;\n",
       "    word-break: break-all;\n",
       "    font-family: \"Source Code Pro\", \"Menlo\", monospace;;\n",
       "    font-size: 13px;\n",
       "    color: #555;\n",
       "    margin-left: 4px;\n",
       "    line-height: 19px;\n",
       "  }\n",
       "</style>\n",
       "<div class=\"ansiout\">Out[50]: -0.031232111106837743</div>"
      ]
     },
     "metadata": {
      "application/vnd.databricks.v1+output": {
       "addedWidgets": {},
       "arguments": {},
       "data": "<div class=\"ansiout\">Out[50]: -0.031232111106837743</div>",
       "datasetInfos": [],
       "removedWidgets": [],
       "type": "html"
      }
     },
     "output_type": "display_data"
    }
   ],
   "source": [
    "df.stat.corr('rand1', 'rand2')"
   ]
  },
  {
   "cell_type": "code",
   "execution_count": 0,
   "metadata": {
    "application/vnd.databricks.v1+cell": {
     "inputWidgets": {},
     "nuid": "d7035699-87b9-4125-8bc7-cfcf24dad032",
     "showTitle": false,
     "title": ""
    },
    "slideshow": {
     "slide_type": "slide"
    }
   },
   "outputs": [
    {
     "data": {
      "text/html": [
       "<style scoped>\n",
       "  .ansiout {\n",
       "    display: block;\n",
       "    unicode-bidi: embed;\n",
       "    white-space: pre-wrap;\n",
       "    word-wrap: break-word;\n",
       "    word-break: break-all;\n",
       "    font-family: \"Source Code Pro\", \"Menlo\", monospace;;\n",
       "    font-size: 13px;\n",
       "    color: #555;\n",
       "    margin-left: 4px;\n",
       "    line-height: 19px;\n",
       "  }\n",
       "</style>\n",
       "<div class=\"ansiout\">Out[51]: 1.0</div>"
      ]
     },
     "metadata": {
      "application/vnd.databricks.v1+output": {
       "addedWidgets": {},
       "arguments": {},
       "data": "<div class=\"ansiout\">Out[51]: 1.0</div>",
       "datasetInfos": [],
       "removedWidgets": [],
       "type": "html"
      }
     },
     "output_type": "display_data"
    }
   ],
   "source": [
    "df.stat.corr('id', 'id')"
   ]
  },
  {
   "cell_type": "markdown",
   "metadata": {
    "application/vnd.databricks.v1+cell": {
     "inputWidgets": {},
     "nuid": "32fe6e6f-2049-49b9-af0f-9b1f0d9e621d",
     "showTitle": false,
     "title": ""
    },
    "slideshow": {
     "slide_type": "slide"
    }
   },
   "source": [
    "No exemplo acima, id se correlaciona perfeitamente com ele mesmo, enquanto as duas colunas geradas aleatoriamente têm baixo valor de correlação."
   ]
  },
  {
   "cell_type": "code",
   "execution_count": 0,
   "metadata": {
    "application/vnd.databricks.v1+cell": {
     "inputWidgets": {},
     "nuid": "8650e38f-035e-4ccc-a4dc-b5021761d40d",
     "showTitle": false,
     "title": ""
    },
    "slideshow": {
     "slide_type": "slide"
    }
   },
   "outputs": [
    {
     "data": {
      "text/html": [
       "<style scoped>\n",
       "  .table-result-container {\n",
       "    max-height: 300px;\n",
       "    overflow: auto;\n",
       "  }\n",
       "  table, th, td {\n",
       "    border: 1px solid black;\n",
       "    border-collapse: collapse;\n",
       "  }\n",
       "  th, td {\n",
       "    padding: 5px;\n",
       "  }\n",
       "  th {\n",
       "    text-align: left;\n",
       "  }\n",
       "</style><div class='table-result-container'><table class='table-result'><thead style='background-color: white'><tr><th>id</th><th>rand1</th><th>rand2</th></tr></thead><tbody><tr><td>0</td><td>0.1709497137955568</td><td>0.8894415403143504</td></tr><tr><td>1</td><td>0.8051143958005459</td><td>0.9658033539477212</td></tr><tr><td>2</td><td>0.5775925576589018</td><td>0.18783354174799438</td></tr><tr><td>3</td><td>0.9476047869880925</td><td>0.28489885393300474</td></tr><tr><td>4</td><td>0.2093704977577</td><td>0.5207165345237337</td></tr><tr><td>5</td><td>0.36664222617947817</td><td>0.29022461831445</td></tr><tr><td>6</td><td>0.8078688178371882</td><td>0.7962482611496515</td></tr><tr><td>7</td><td>0.7135143433452461</td><td>0.2948555807675217</td></tr><tr><td>8</td><td>0.7195325566306053</td><td>0.8406404286538152</td></tr><tr><td>9</td><td>0.31335292311175456</td><td>0.05654934737553252</td></tr><tr><td>10</td><td>0.8062503712025726</td><td>0.5591744861079746</td></tr><tr><td>11</td><td>0.10814914646176654</td><td>0.31446013845788146</td></tr><tr><td>12</td><td>0.03422639313807285</td><td>0.808152402708103</td></tr><tr><td>13</td><td>0.11682250456449328</td><td>0.1753332481572636</td></tr><tr><td>14</td><td>0.3252227809451943</td><td>0.9894530945118741</td></tr><tr><td>15</td><td>0.4358851046481089</td><td>0.7275724505361818</td></tr><tr><td>16</td><td>0.27831507107951303</td><td>0.72995211246392</td></tr><tr><td>17</td><td>0.8601856145216583</td><td>0.30284571233687096</td></tr><tr><td>18</td><td>0.8069471711557737</td><td>0.9569877068769661</td></tr><tr><td>19</td><td>0.2718207931603598</td><td>0.4974632546664315</td></tr><tr><td>20</td><td>0.024885359103782312</td><td>0.6266641128869758</td></tr><tr><td>21</td><td>0.6157605779455242</td><td>0.6178456003499149</td></tr><tr><td>22</td><td>0.1474871940150151</td><td>0.9878875566514242</td></tr><tr><td>23</td><td>0.7455590822549971</td><td>0.4422359438619977</td></tr><tr><td>24</td><td>0.882544670278329</td><td>0.02342364080562409</td></tr><tr><td>25</td><td>0.3654625958161396</td><td>0.5956629641640896</td></tr><tr><td>26</td><td>0.9312570034742369</td><td>0.07569285135201276</td></tr><tr><td>27</td><td>0.7034605472341491</td><td>0.19793470293910964</td></tr><tr><td>28</td><td>0.16359268254263504</td><td>0.9201247562649396</td></tr><tr><td>29</td><td>0.006325801241737317</td><td>0.4951088943311982</td></tr><tr><td>30</td><td>0.4588562955492431</td><td>0.7424638427592041</td></tr><tr><td>31</td><td>0.22297193961896744</td><td>0.5845951940334293</td></tr><tr><td>32</td><td>0.9403286174320025</td><td>0.48295159830255774</td></tr><tr><td>33</td><td>0.3269925320700604</td><td>0.4470870685518621</td></tr><tr><td>34</td><td>0.4320341876787328</td><td>0.027739543799642163</td></tr><tr><td>35</td><td>0.3141315678014228</td><td>0.36330201528805184</td></tr><tr><td>36</td><td>0.28000239881878</td><td>0.5871154606498779</td></tr><tr><td>37</td><td>0.4175019040792016</td><td>0.2762195585886885</td></tr><tr><td>38</td><td>0.9899129399827472</td><td>0.7043214981152885</td></tr><tr><td>39</td><td>0.48359971255227285</td><td>0.7035226295580093</td></tr><tr><td>40</td><td>0.6070081240379598</td><td>0.8380966150825057</td></tr><tr><td>41</td><td>0.4013942674751203</td><td>0.8835135945440782</td></tr><tr><td>42</td><td>0.8987265859464685</td><td>0.5923849157974947</td></tr><tr><td>43</td><td>0.6520429132273503</td><td>0.43220817731475814</td></tr><tr><td>44</td><td>0.004425706749181635</td><td>0.880735754028304</td></tr><tr><td>45</td><td>0.14592366468922524</td><td>0.33024111590957583</td></tr><tr><td>46</td><td>0.31150008895600867</td><td>0.13800602454073596</td></tr><tr><td>47</td><td>0.4395030761034342</td><td>0.2614889141564005</td></tr><tr><td>48</td><td>0.21216903017825883</td><td>0.7895182330674836</td></tr><tr><td>49</td><td>0.8154639353660922</td><td>0.6947145509640906</td></tr><tr><td>50</td><td>0.16452185994603707</td><td>0.8378244793454831</td></tr><tr><td>51</td><td>0.5459559484957036</td><td>0.29536022742251444</td></tr><tr><td>52</td><td>0.7822790280360283</td><td>0.8565511892993495</td></tr><tr><td>53</td><td>0.8021215157376222</td><td>0.9821531554369161</td></tr><tr><td>54</td><td>0.8565141867349828</td><td>0.17927760026257955</td></tr><tr><td>55</td><td>0.36496896232501697</td><td>0.8964052289391221</td></tr><tr><td>56</td><td>0.8544350240494869</td><td>0.7692057614901133</td></tr><tr><td>57</td><td>0.7954643720935383</td><td>0.8119809929286291</td></tr><tr><td>58</td><td>0.18997686828126048</td><td>0.7838480498901204</td></tr><tr><td>59</td><td>0.12058418424328521</td><td>0.5572747105291548</td></tr><tr><td>60</td><td>0.30663833201615043</td><td>1.0319437611205906E-5</td></tr><tr><td>61</td><td>0.8085008837086494</td><td>0.6394495849209572</td></tr><tr><td>62</td><td>0.18141810315190554</td><td>0.6340859398860077</td></tr><tr><td>63</td><td>0.626988129685516</td><td>0.6357756843319952</td></tr><tr><td>64</td><td>0.35421803636733495</td><td>0.6409166247627097</td></tr><tr><td>65</td><td>0.21101605231806198</td><td>0.3251767344165949</td></tr><tr><td>66</td><td>0.8189059402224587</td><td>0.9823027033561212</td></tr><tr><td>67</td><td>0.6920078838955664</td><td>0.5406476778374698</td></tr><tr><td>68</td><td>0.7664589254286232</td><td>0.7573712131958099</td></tr><tr><td>69</td><td>0.5541206475613204</td><td>0.3810688031778693</td></tr><tr><td>70</td><td>0.3621346554845799</td><td>0.5752204757675495</td></tr><tr><td>71</td><td>0.48110035768197124</td><td>0.5126376755878508</td></tr><tr><td>72</td><td>0.18924905548078141</td><td>0.27862496712973295</td></tr><tr><td>73</td><td>0.4865077798603922</td><td>0.25597805586728883</td></tr><tr><td>74</td><td>0.6609186090133667</td><td>0.38501494588587915</td></tr><tr><td>75</td><td>0.49595620559530806</td><td>0.49326717925251506</td></tr><tr><td>76</td><td>0.16822045403825436</td><td>0.8368314075624957</td></tr><tr><td>77</td><td>0.13115056787449664</td><td>0.07092776690477642</td></tr><tr><td>78</td><td>0.168048197073298</td><td>0.6123436564417691</td></tr><tr><td>79</td><td>0.28186255193787635</td><td>0.13175370850461132</td></tr><tr><td>80</td><td>0.8495582268567247</td><td>0.536026907401182</td></tr><tr><td>81</td><td>0.5669786627146989</td><td>0.3118062877684876</td></tr><tr><td>82</td><td>0.6837540042282528</td><td>0.9884755156555473</td></tr><tr><td>83</td><td>0.5502421501153059</td><td>0.014912440519675663</td></tr><tr><td>84</td><td>0.5138617487626886</td><td>0.9519555908393653</td></tr><tr><td>85</td><td>0.4654452351006859</td><td>0.16159244039067233</td></tr><tr><td>86</td><td>0.8107635521563324</td><td>0.2534818791692012</td></tr><tr><td>87</td><td>0.9697474945375325</td><td>0.5711276669097988</td></tr><tr><td>88</td><td>0.07530606222259384</td><td>0.7049616255180481</td></tr><tr><td>89</td><td>0.05242657018696939</td><td>0.053205020580506135</td></tr><tr><td>90</td><td>0.5448652870760927</td><td>0.038146045367657644</td></tr><tr><td>91</td><td>0.3298954444401243</td><td>0.4127050216611743</td></tr><tr><td>92</td><td>0.6546444268418184</td><td>0.48735045457992643</td></tr><tr><td>93</td><td>0.8363336558573685</td><td>0.06832987433144466</td></tr><tr><td>94</td><td>0.6419036991373893</td><td>0.5475127518563576</td></tr><tr><td>95</td><td>0.04167835501921968</td><td>0.5128569745826187</td></tr><tr><td>96</td><td>0.7032825170505205</td><td>0.5019459397983789</td></tr><tr><td>97</td><td>0.7062303175127245</td><td>0.20912301370207464</td></tr><tr><td>98</td><td>0.806547789808454</td><td>0.30509510873481904</td></tr><tr><td>99</td><td>0.7696997904523026</td><td>0.3174017918971779</td></tr></tbody></table></div>"
      ]
     },
     "metadata": {
      "application/vnd.databricks.v1+output": {
       "addedWidgets": {},
       "aggData": [],
       "aggError": "",
       "aggOverflow": false,
       "aggSchema": [],
       "aggSeriesLimitReached": false,
       "aggType": "",
       "arguments": {},
       "columnCustomDisplayInfos": {},
       "data": [
        [
         0,
         0.1709497137955568,
         0.8894415403143504
        ],
        [
         1,
         0.8051143958005459,
         0.9658033539477212
        ],
        [
         2,
         0.5775925576589018,
         0.18783354174799438
        ],
        [
         3,
         0.9476047869880925,
         0.28489885393300474
        ],
        [
         4,
         0.2093704977577,
         0.5207165345237337
        ],
        [
         5,
         0.36664222617947817,
         0.29022461831445
        ],
        [
         6,
         0.8078688178371882,
         0.7962482611496515
        ],
        [
         7,
         0.7135143433452461,
         0.2948555807675217
        ],
        [
         8,
         0.7195325566306053,
         0.8406404286538152
        ],
        [
         9,
         0.31335292311175456,
         0.05654934737553252
        ],
        [
         10,
         0.8062503712025726,
         0.5591744861079746
        ],
        [
         11,
         0.10814914646176654,
         0.31446013845788146
        ],
        [
         12,
         0.03422639313807285,
         0.808152402708103
        ],
        [
         13,
         0.11682250456449328,
         0.1753332481572636
        ],
        [
         14,
         0.3252227809451943,
         0.9894530945118741
        ],
        [
         15,
         0.4358851046481089,
         0.7275724505361818
        ],
        [
         16,
         0.27831507107951303,
         0.72995211246392
        ],
        [
         17,
         0.8601856145216583,
         0.30284571233687096
        ],
        [
         18,
         0.8069471711557737,
         0.9569877068769661
        ],
        [
         19,
         0.2718207931603598,
         0.4974632546664315
        ],
        [
         20,
         0.024885359103782312,
         0.6266641128869758
        ],
        [
         21,
         0.6157605779455242,
         0.6178456003499149
        ],
        [
         22,
         0.1474871940150151,
         0.9878875566514242
        ],
        [
         23,
         0.7455590822549971,
         0.4422359438619977
        ],
        [
         24,
         0.882544670278329,
         0.02342364080562409
        ],
        [
         25,
         0.3654625958161396,
         0.5956629641640896
        ],
        [
         26,
         0.9312570034742369,
         0.07569285135201276
        ],
        [
         27,
         0.7034605472341491,
         0.19793470293910964
        ],
        [
         28,
         0.16359268254263504,
         0.9201247562649396
        ],
        [
         29,
         0.006325801241737317,
         0.4951088943311982
        ],
        [
         30,
         0.4588562955492431,
         0.7424638427592041
        ],
        [
         31,
         0.22297193961896744,
         0.5845951940334293
        ],
        [
         32,
         0.9403286174320025,
         0.48295159830255774
        ],
        [
         33,
         0.3269925320700604,
         0.4470870685518621
        ],
        [
         34,
         0.4320341876787328,
         0.027739543799642163
        ],
        [
         35,
         0.3141315678014228,
         0.36330201528805184
        ],
        [
         36,
         0.28000239881878,
         0.5871154606498779
        ],
        [
         37,
         0.4175019040792016,
         0.2762195585886885
        ],
        [
         38,
         0.9899129399827472,
         0.7043214981152885
        ],
        [
         39,
         0.48359971255227285,
         0.7035226295580093
        ],
        [
         40,
         0.6070081240379598,
         0.8380966150825057
        ],
        [
         41,
         0.4013942674751203,
         0.8835135945440782
        ],
        [
         42,
         0.8987265859464685,
         0.5923849157974947
        ],
        [
         43,
         0.6520429132273503,
         0.43220817731475814
        ],
        [
         44,
         0.004425706749181635,
         0.880735754028304
        ],
        [
         45,
         0.14592366468922524,
         0.33024111590957583
        ],
        [
         46,
         0.31150008895600867,
         0.13800602454073596
        ],
        [
         47,
         0.4395030761034342,
         0.2614889141564005
        ],
        [
         48,
         0.21216903017825883,
         0.7895182330674836
        ],
        [
         49,
         0.8154639353660922,
         0.6947145509640906
        ],
        [
         50,
         0.16452185994603707,
         0.8378244793454831
        ],
        [
         51,
         0.5459559484957036,
         0.29536022742251444
        ],
        [
         52,
         0.7822790280360283,
         0.8565511892993495
        ],
        [
         53,
         0.8021215157376222,
         0.9821531554369161
        ],
        [
         54,
         0.8565141867349828,
         0.17927760026257955
        ],
        [
         55,
         0.36496896232501697,
         0.8964052289391221
        ],
        [
         56,
         0.8544350240494869,
         0.7692057614901133
        ],
        [
         57,
         0.7954643720935383,
         0.8119809929286291
        ],
        [
         58,
         0.18997686828126048,
         0.7838480498901204
        ],
        [
         59,
         0.12058418424328521,
         0.5572747105291548
        ],
        [
         60,
         0.30663833201615043,
         1.0319437611205906e-05
        ],
        [
         61,
         0.8085008837086494,
         0.6394495849209572
        ],
        [
         62,
         0.18141810315190554,
         0.6340859398860077
        ],
        [
         63,
         0.626988129685516,
         0.6357756843319952
        ],
        [
         64,
         0.35421803636733495,
         0.6409166247627097
        ],
        [
         65,
         0.21101605231806198,
         0.3251767344165949
        ],
        [
         66,
         0.8189059402224587,
         0.9823027033561212
        ],
        [
         67,
         0.6920078838955664,
         0.5406476778374698
        ],
        [
         68,
         0.7664589254286232,
         0.7573712131958099
        ],
        [
         69,
         0.5541206475613204,
         0.3810688031778693
        ],
        [
         70,
         0.3621346554845799,
         0.5752204757675495
        ],
        [
         71,
         0.48110035768197124,
         0.5126376755878508
        ],
        [
         72,
         0.18924905548078141,
         0.27862496712973295
        ],
        [
         73,
         0.4865077798603922,
         0.25597805586728883
        ],
        [
         74,
         0.6609186090133667,
         0.38501494588587915
        ],
        [
         75,
         0.49595620559530806,
         0.49326717925251506
        ],
        [
         76,
         0.16822045403825436,
         0.8368314075624957
        ],
        [
         77,
         0.13115056787449664,
         0.07092776690477642
        ],
        [
         78,
         0.168048197073298,
         0.6123436564417691
        ],
        [
         79,
         0.28186255193787635,
         0.13175370850461132
        ],
        [
         80,
         0.8495582268567247,
         0.536026907401182
        ],
        [
         81,
         0.5669786627146989,
         0.3118062877684876
        ],
        [
         82,
         0.6837540042282528,
         0.9884755156555473
        ],
        [
         83,
         0.5502421501153059,
         0.014912440519675663
        ],
        [
         84,
         0.5138617487626886,
         0.9519555908393653
        ],
        [
         85,
         0.4654452351006859,
         0.16159244039067233
        ],
        [
         86,
         0.8107635521563324,
         0.2534818791692012
        ],
        [
         87,
         0.9697474945375325,
         0.5711276669097988
        ],
        [
         88,
         0.07530606222259384,
         0.7049616255180481
        ],
        [
         89,
         0.05242657018696939,
         0.053205020580506135
        ],
        [
         90,
         0.5448652870760927,
         0.038146045367657644
        ],
        [
         91,
         0.3298954444401243,
         0.4127050216611743
        ],
        [
         92,
         0.6546444268418184,
         0.48735045457992643
        ],
        [
         93,
         0.8363336558573685,
         0.06832987433144466
        ],
        [
         94,
         0.6419036991373893,
         0.5475127518563576
        ],
        [
         95,
         0.04167835501921968,
         0.5128569745826187
        ],
        [
         96,
         0.7032825170505205,
         0.5019459397983789
        ],
        [
         97,
         0.7062303175127245,
         0.20912301370207464
        ],
        [
         98,
         0.806547789808454,
         0.30509510873481904
        ],
        [
         99,
         0.7696997904523026,
         0.3174017918971779
        ]
       ],
       "datasetInfos": [],
       "dbfsResultPath": null,
       "isJsonSchema": true,
       "overflow": false,
       "plotOptions": {
        "customPlotOptions": {},
        "displayType": "scatterPlot",
        "pivotAggregation": null,
        "pivotColumns": null,
        "xColumns": null,
        "yColumns": null
       },
       "removedWidgets": [],
       "schema": [
        {
         "metadata": "{}",
         "name": "id",
         "type": "\"long\""
        },
        {
         "metadata": "{}",
         "name": "rand1",
         "type": "\"double\""
        },
        {
         "metadata": "{}",
         "name": "rand2",
         "type": "\"double\""
        }
       ],
       "type": "table"
      }
     },
     "output_type": "display_data"
    }
   ],
   "source": [
    "df.display()"
   ]
  },
  {
   "cell_type": "markdown",
   "metadata": {
    "application/vnd.databricks.v1+cell": {
     "inputWidgets": {},
     "nuid": "f5b98ea6-81ed-40f8-8104-c1acca371209",
     "showTitle": false,
     "title": ""
    },
    "slideshow": {
     "slide_type": "slide"
    }
   },
   "source": [
    "# 4. Tabulação cruzada (tabela de contingência)\n",
    "A tabulação cruzada fornece uma tabela da distribuição de frequência para um conjunto de variáveis. A tabulação cruzada é uma ferramenta poderosa em estatística usada para observar a significância estatística (ou independência) das variáveis. No Spark os usuários são capazes de fazer tabulação cruzada de duas colunas de um DataFrame para obter as contagens dos diferentes pares observados nessas colunas. Aqui está um exemplo de como usar a crosstab para obter a tabela de contingência."
   ]
  },
  {
   "cell_type": "code",
   "execution_count": 0,
   "metadata": {
    "application/vnd.databricks.v1+cell": {
     "inputWidgets": {},
     "nuid": "1e5b0a4f-fee4-4b97-bf66-acf95f28d2df",
     "showTitle": false,
     "title": ""
    },
    "slideshow": {
     "slide_type": "slide"
    }
   },
   "outputs": [
    {
     "data": {
      "text/html": [
       "<style scoped>\n",
       "  .ansiout {\n",
       "    display: block;\n",
       "    unicode-bidi: embed;\n",
       "    white-space: pre-wrap;\n",
       "    word-wrap: break-word;\n",
       "    word-break: break-all;\n",
       "    font-family: \"Source Code Pro\", \"Menlo\", monospace;;\n",
       "    font-size: 13px;\n",
       "    color: #555;\n",
       "    margin-left: 4px;\n",
       "    line-height: 19px;\n",
       "  }\n",
       "</style>\n",
       "<div class=\"ansiout\"></div>"
      ]
     },
     "metadata": {
      "application/vnd.databricks.v1+output": {
       "addedWidgets": {},
       "arguments": {},
       "data": "<div class=\"ansiout\"></div>",
       "datasetInfos": [],
       "removedWidgets": [],
       "type": "html"
      }
     },
     "output_type": "display_data"
    }
   ],
   "source": [
    "# Crie um DataFrame com duas colunas (nome, item)\n",
    "nomes = [\"Alice\", \"Roberto\", \"Marcos\"]\n",
    "items = [\"leite\", \"pão\", \"manteiga\", \"maças\", \"laranjas\"]\n",
    "df = sqlContext.createDataFrame([(nomes[i % 3], items[i % 5]) for i in range(100)], [\"nome\", \"item\"])"
   ]
  },
  {
   "cell_type": "code",
   "execution_count": 0,
   "metadata": {
    "application/vnd.databricks.v1+cell": {
     "inputWidgets": {},
     "nuid": "768455e2-4594-4a73-a406-a5bd6aa6956e",
     "showTitle": false,
     "title": ""
    },
    "slideshow": {
     "slide_type": "slide"
    }
   },
   "outputs": [
    {
     "data": {
      "text/html": [
       "<style scoped>\n",
       "  .table-result-container {\n",
       "    max-height: 300px;\n",
       "    overflow: auto;\n",
       "  }\n",
       "  table, th, td {\n",
       "    border: 1px solid black;\n",
       "    border-collapse: collapse;\n",
       "  }\n",
       "  th, td {\n",
       "    padding: 5px;\n",
       "  }\n",
       "  th {\n",
       "    text-align: left;\n",
       "  }\n",
       "</style><div class='table-result-container'><table class='table-result'><thead style='background-color: white'><tr><th>nome</th><th>item</th></tr></thead><tbody><tr><td>Alice</td><td>leite</td></tr><tr><td>Roberto</td><td>pão</td></tr><tr><td>Marcos</td><td>manteiga</td></tr><tr><td>Alice</td><td>maças</td></tr><tr><td>Roberto</td><td>laranjas</td></tr><tr><td>Marcos</td><td>leite</td></tr><tr><td>Alice</td><td>pão</td></tr><tr><td>Roberto</td><td>manteiga</td></tr><tr><td>Marcos</td><td>maças</td></tr><tr><td>Alice</td><td>laranjas</td></tr><tr><td>Roberto</td><td>leite</td></tr><tr><td>Marcos</td><td>pão</td></tr><tr><td>Alice</td><td>manteiga</td></tr><tr><td>Roberto</td><td>maças</td></tr><tr><td>Marcos</td><td>laranjas</td></tr><tr><td>Alice</td><td>leite</td></tr><tr><td>Roberto</td><td>pão</td></tr><tr><td>Marcos</td><td>manteiga</td></tr><tr><td>Alice</td><td>maças</td></tr><tr><td>Roberto</td><td>laranjas</td></tr><tr><td>Marcos</td><td>leite</td></tr><tr><td>Alice</td><td>pão</td></tr><tr><td>Roberto</td><td>manteiga</td></tr><tr><td>Marcos</td><td>maças</td></tr><tr><td>Alice</td><td>laranjas</td></tr><tr><td>Roberto</td><td>leite</td></tr><tr><td>Marcos</td><td>pão</td></tr><tr><td>Alice</td><td>manteiga</td></tr><tr><td>Roberto</td><td>maças</td></tr><tr><td>Marcos</td><td>laranjas</td></tr><tr><td>Alice</td><td>leite</td></tr><tr><td>Roberto</td><td>pão</td></tr><tr><td>Marcos</td><td>manteiga</td></tr><tr><td>Alice</td><td>maças</td></tr><tr><td>Roberto</td><td>laranjas</td></tr><tr><td>Marcos</td><td>leite</td></tr><tr><td>Alice</td><td>pão</td></tr><tr><td>Roberto</td><td>manteiga</td></tr><tr><td>Marcos</td><td>maças</td></tr><tr><td>Alice</td><td>laranjas</td></tr><tr><td>Roberto</td><td>leite</td></tr><tr><td>Marcos</td><td>pão</td></tr><tr><td>Alice</td><td>manteiga</td></tr><tr><td>Roberto</td><td>maças</td></tr><tr><td>Marcos</td><td>laranjas</td></tr><tr><td>Alice</td><td>leite</td></tr><tr><td>Roberto</td><td>pão</td></tr><tr><td>Marcos</td><td>manteiga</td></tr><tr><td>Alice</td><td>maças</td></tr><tr><td>Roberto</td><td>laranjas</td></tr><tr><td>Marcos</td><td>leite</td></tr><tr><td>Alice</td><td>pão</td></tr><tr><td>Roberto</td><td>manteiga</td></tr><tr><td>Marcos</td><td>maças</td></tr><tr><td>Alice</td><td>laranjas</td></tr><tr><td>Roberto</td><td>leite</td></tr><tr><td>Marcos</td><td>pão</td></tr><tr><td>Alice</td><td>manteiga</td></tr><tr><td>Roberto</td><td>maças</td></tr><tr><td>Marcos</td><td>laranjas</td></tr><tr><td>Alice</td><td>leite</td></tr><tr><td>Roberto</td><td>pão</td></tr><tr><td>Marcos</td><td>manteiga</td></tr><tr><td>Alice</td><td>maças</td></tr><tr><td>Roberto</td><td>laranjas</td></tr><tr><td>Marcos</td><td>leite</td></tr><tr><td>Alice</td><td>pão</td></tr><tr><td>Roberto</td><td>manteiga</td></tr><tr><td>Marcos</td><td>maças</td></tr><tr><td>Alice</td><td>laranjas</td></tr><tr><td>Roberto</td><td>leite</td></tr><tr><td>Marcos</td><td>pão</td></tr><tr><td>Alice</td><td>manteiga</td></tr><tr><td>Roberto</td><td>maças</td></tr><tr><td>Marcos</td><td>laranjas</td></tr><tr><td>Alice</td><td>leite</td></tr><tr><td>Roberto</td><td>pão</td></tr><tr><td>Marcos</td><td>manteiga</td></tr><tr><td>Alice</td><td>maças</td></tr><tr><td>Roberto</td><td>laranjas</td></tr><tr><td>Marcos</td><td>leite</td></tr><tr><td>Alice</td><td>pão</td></tr><tr><td>Roberto</td><td>manteiga</td></tr><tr><td>Marcos</td><td>maças</td></tr><tr><td>Alice</td><td>laranjas</td></tr><tr><td>Roberto</td><td>leite</td></tr><tr><td>Marcos</td><td>pão</td></tr><tr><td>Alice</td><td>manteiga</td></tr><tr><td>Roberto</td><td>maças</td></tr><tr><td>Marcos</td><td>laranjas</td></tr><tr><td>Alice</td><td>leite</td></tr><tr><td>Roberto</td><td>pão</td></tr><tr><td>Marcos</td><td>manteiga</td></tr><tr><td>Alice</td><td>maças</td></tr><tr><td>Roberto</td><td>laranjas</td></tr><tr><td>Marcos</td><td>leite</td></tr><tr><td>Alice</td><td>pão</td></tr><tr><td>Roberto</td><td>manteiga</td></tr><tr><td>Marcos</td><td>maças</td></tr><tr><td>Alice</td><td>laranjas</td></tr></tbody></table></div>"
      ]
     },
     "metadata": {
      "application/vnd.databricks.v1+output": {
       "addedWidgets": {},
       "aggData": [],
       "aggError": "",
       "aggOverflow": false,
       "aggSchema": [],
       "aggSeriesLimitReached": false,
       "aggType": "",
       "arguments": {},
       "columnCustomDisplayInfos": {},
       "data": [
        [
         "Alice",
         "leite"
        ],
        [
         "Roberto",
         "pão"
        ],
        [
         "Marcos",
         "manteiga"
        ],
        [
         "Alice",
         "maças"
        ],
        [
         "Roberto",
         "laranjas"
        ],
        [
         "Marcos",
         "leite"
        ],
        [
         "Alice",
         "pão"
        ],
        [
         "Roberto",
         "manteiga"
        ],
        [
         "Marcos",
         "maças"
        ],
        [
         "Alice",
         "laranjas"
        ],
        [
         "Roberto",
         "leite"
        ],
        [
         "Marcos",
         "pão"
        ],
        [
         "Alice",
         "manteiga"
        ],
        [
         "Roberto",
         "maças"
        ],
        [
         "Marcos",
         "laranjas"
        ],
        [
         "Alice",
         "leite"
        ],
        [
         "Roberto",
         "pão"
        ],
        [
         "Marcos",
         "manteiga"
        ],
        [
         "Alice",
         "maças"
        ],
        [
         "Roberto",
         "laranjas"
        ],
        [
         "Marcos",
         "leite"
        ],
        [
         "Alice",
         "pão"
        ],
        [
         "Roberto",
         "manteiga"
        ],
        [
         "Marcos",
         "maças"
        ],
        [
         "Alice",
         "laranjas"
        ],
        [
         "Roberto",
         "leite"
        ],
        [
         "Marcos",
         "pão"
        ],
        [
         "Alice",
         "manteiga"
        ],
        [
         "Roberto",
         "maças"
        ],
        [
         "Marcos",
         "laranjas"
        ],
        [
         "Alice",
         "leite"
        ],
        [
         "Roberto",
         "pão"
        ],
        [
         "Marcos",
         "manteiga"
        ],
        [
         "Alice",
         "maças"
        ],
        [
         "Roberto",
         "laranjas"
        ],
        [
         "Marcos",
         "leite"
        ],
        [
         "Alice",
         "pão"
        ],
        [
         "Roberto",
         "manteiga"
        ],
        [
         "Marcos",
         "maças"
        ],
        [
         "Alice",
         "laranjas"
        ],
        [
         "Roberto",
         "leite"
        ],
        [
         "Marcos",
         "pão"
        ],
        [
         "Alice",
         "manteiga"
        ],
        [
         "Roberto",
         "maças"
        ],
        [
         "Marcos",
         "laranjas"
        ],
        [
         "Alice",
         "leite"
        ],
        [
         "Roberto",
         "pão"
        ],
        [
         "Marcos",
         "manteiga"
        ],
        [
         "Alice",
         "maças"
        ],
        [
         "Roberto",
         "laranjas"
        ],
        [
         "Marcos",
         "leite"
        ],
        [
         "Alice",
         "pão"
        ],
        [
         "Roberto",
         "manteiga"
        ],
        [
         "Marcos",
         "maças"
        ],
        [
         "Alice",
         "laranjas"
        ],
        [
         "Roberto",
         "leite"
        ],
        [
         "Marcos",
         "pão"
        ],
        [
         "Alice",
         "manteiga"
        ],
        [
         "Roberto",
         "maças"
        ],
        [
         "Marcos",
         "laranjas"
        ],
        [
         "Alice",
         "leite"
        ],
        [
         "Roberto",
         "pão"
        ],
        [
         "Marcos",
         "manteiga"
        ],
        [
         "Alice",
         "maças"
        ],
        [
         "Roberto",
         "laranjas"
        ],
        [
         "Marcos",
         "leite"
        ],
        [
         "Alice",
         "pão"
        ],
        [
         "Roberto",
         "manteiga"
        ],
        [
         "Marcos",
         "maças"
        ],
        [
         "Alice",
         "laranjas"
        ],
        [
         "Roberto",
         "leite"
        ],
        [
         "Marcos",
         "pão"
        ],
        [
         "Alice",
         "manteiga"
        ],
        [
         "Roberto",
         "maças"
        ],
        [
         "Marcos",
         "laranjas"
        ],
        [
         "Alice",
         "leite"
        ],
        [
         "Roberto",
         "pão"
        ],
        [
         "Marcos",
         "manteiga"
        ],
        [
         "Alice",
         "maças"
        ],
        [
         "Roberto",
         "laranjas"
        ],
        [
         "Marcos",
         "leite"
        ],
        [
         "Alice",
         "pão"
        ],
        [
         "Roberto",
         "manteiga"
        ],
        [
         "Marcos",
         "maças"
        ],
        [
         "Alice",
         "laranjas"
        ],
        [
         "Roberto",
         "leite"
        ],
        [
         "Marcos",
         "pão"
        ],
        [
         "Alice",
         "manteiga"
        ],
        [
         "Roberto",
         "maças"
        ],
        [
         "Marcos",
         "laranjas"
        ],
        [
         "Alice",
         "leite"
        ],
        [
         "Roberto",
         "pão"
        ],
        [
         "Marcos",
         "manteiga"
        ],
        [
         "Alice",
         "maças"
        ],
        [
         "Roberto",
         "laranjas"
        ],
        [
         "Marcos",
         "leite"
        ],
        [
         "Alice",
         "pão"
        ],
        [
         "Roberto",
         "manteiga"
        ],
        [
         "Marcos",
         "maças"
        ],
        [
         "Alice",
         "laranjas"
        ]
       ],
       "datasetInfos": [],
       "dbfsResultPath": null,
       "isJsonSchema": true,
       "overflow": false,
       "plotOptions": {
        "customPlotOptions": {},
        "displayType": "table",
        "pivotAggregation": null,
        "pivotColumns": null,
        "xColumns": null,
        "yColumns": null
       },
       "removedWidgets": [],
       "schema": [
        {
         "metadata": "{}",
         "name": "nome",
         "type": "\"string\""
        },
        {
         "metadata": "{}",
         "name": "item",
         "type": "\"string\""
        }
       ],
       "type": "table"
      }
     },
     "output_type": "display_data"
    }
   ],
   "source": [
    "df.display()"
   ]
  },
  {
   "cell_type": "code",
   "execution_count": 0,
   "metadata": {
    "application/vnd.databricks.v1+cell": {
     "inputWidgets": {},
     "nuid": "d9d050d1-5ea5-4372-9701-34bb5cc8c6c0",
     "showTitle": false,
     "title": ""
    },
    "slideshow": {
     "slide_type": "slide"
    }
   },
   "outputs": [
    {
     "data": {
      "text/html": [
       "<style scoped>\n",
       "  .ansiout {\n",
       "    display: block;\n",
       "    unicode-bidi: embed;\n",
       "    white-space: pre-wrap;\n",
       "    word-wrap: break-word;\n",
       "    word-break: break-all;\n",
       "    font-family: \"Source Code Pro\", \"Menlo\", monospace;;\n",
       "    font-size: 13px;\n",
       "    color: #555;\n",
       "    margin-left: 4px;\n",
       "    line-height: 19px;\n",
       "  }\n",
       "</style>\n",
       "<div class=\"ansiout\">+---------+--------+-----+--------+-----+---+\n",
       "nome_item|laranjas|leite|manteiga|maças|pão|\n",
       "+---------+--------+-----+--------+-----+---+\n",
       "   Marcos|       6|    7|       7|    7|  6|\n",
       "  Roberto|       7|    6|       7|    6|  7|\n",
       "    Alice|       7|    7|       6|    7|  7|\n",
       "+---------+--------+-----+--------+-----+---+\n",
       "\n",
       "</div>"
      ]
     },
     "metadata": {
      "application/vnd.databricks.v1+output": {
       "addedWidgets": {},
       "arguments": {},
       "data": "<div class=\"ansiout\">+---------+--------+-----+--------+-----+---+\n|nome_item|laranjas|leite|manteiga|maças|pão|\n+---------+--------+-----+--------+-----+---+\n|   Marcos|       6|    7|       7|    7|  6|\n|  Roberto|       7|    6|       7|    6|  7|\n|    Alice|       7|    7|       6|    7|  7|\n+---------+--------+-----+--------+-----+---+\n\n</div>",
       "datasetInfos": [],
       "removedWidgets": [],
       "type": "html"
      }
     },
     "output_type": "display_data"
    }
   ],
   "source": [
    "df.stat.crosstab(\"nome\", \"item\").show()"
   ]
  },
  {
   "cell_type": "markdown",
   "metadata": {
    "application/vnd.databricks.v1+cell": {
     "inputWidgets": {},
     "nuid": "64b57370-0c6b-4348-ab70-de2c0669c8f7",
     "showTitle": false,
     "title": ""
    },
    "slideshow": {
     "slide_type": "slide"
    }
   },
   "source": [
    "Uma coisa importante a se ter em mente é que a cardinalidade das colunas nas quais executamos a crosstab não pode ser muito grande. Ou seja, o número de “nome” e “item” distintos não pode ser muito grande. Imagine se “item” contém 1 bilhão de entradas distintas: como você colocaria essa tabela na sua tela ?!"
   ]
  },
  {
   "cell_type": "markdown",
   "metadata": {
    "application/vnd.databricks.v1+cell": {
     "inputWidgets": {},
     "nuid": "214e8318-f48e-4401-ab77-b1091c785f72",
     "showTitle": false,
     "title": ""
    },
    "slideshow": {
     "slide_type": "slide"
    }
   },
   "source": [
    "# 5. Itens Freqüentes\n",
    "Descobrir quais itens são frequentes em cada coluna pode ser muito útil para entender um conjunto de dados. No Spark, os usuários podem encontrar os itens frequentes para um conjunto de colunas usando DataFrames. Implementamos um algoritmo de uma passagem proposto por Karp et al. Este é um algoritmo rápido e aproximado que sempre retorna todos os itens frequentes que aparecem em uma proporção mínima de linhas especificada pelo usuário. Observe que o resultado pode conter falsos positivos, ou seja, itens que não são frequentes."
   ]
  },
  {
   "cell_type": "code",
   "execution_count": 0,
   "metadata": {
    "application/vnd.databricks.v1+cell": {
     "inputWidgets": {},
     "nuid": "b1a196d0-f598-49c7-a44a-7a402cb08468",
     "showTitle": false,
     "title": ""
    },
    "slideshow": {
     "slide_type": "slide"
    }
   },
   "outputs": [
    {
     "data": {
      "text/html": [
       "<style scoped>\n",
       "  .ansiout {\n",
       "    display: block;\n",
       "    unicode-bidi: embed;\n",
       "    white-space: pre-wrap;\n",
       "    word-wrap: break-word;\n",
       "    word-break: break-all;\n",
       "    font-family: \"Source Code Pro\", \"Menlo\", monospace;;\n",
       "    font-size: 13px;\n",
       "    color: #555;\n",
       "    margin-left: 4px;\n",
       "    line-height: 19px;\n",
       "  }\n",
       "</style>\n",
       "<div class=\"ansiout\">+---+---+---+\n",
       "  a|  b|  c|\n",
       "+---+---+---+\n",
       "  1|  2|  3|\n",
       "  1|  2|  1|\n",
       "  1|  2|  3|\n",
       "  3|  6|  3|\n",
       "  1|  2|  3|\n",
       "  5| 10|  1|\n",
       "  1|  2|  3|\n",
       "  7| 14|  3|\n",
       "  1|  2|  3|\n",
       "  9| 18|  1|\n",
       "+---+---+---+\n",
       "only showing top 10 rows\n",
       "\n",
       "</div>"
      ]
     },
     "metadata": {
      "application/vnd.databricks.v1+output": {
       "addedWidgets": {},
       "arguments": {},
       "data": "<div class=\"ansiout\">+---+---+---+\n|  a|  b|  c|\n+---+---+---+\n|  1|  2|  3|\n|  1|  2|  1|\n|  1|  2|  3|\n|  3|  6|  3|\n|  1|  2|  3|\n|  5| 10|  1|\n|  1|  2|  3|\n|  7| 14|  3|\n|  1|  2|  3|\n|  9| 18|  1|\n+---+---+---+\nonly showing top 10 rows\n\n</div>",
       "datasetInfos": [],
       "removedWidgets": [],
       "type": "html"
      }
     },
     "output_type": "display_data"
    }
   ],
   "source": [
    "df = sqlContext.createDataFrame([(1, 2, 3) if i % 2 == 0 else (i, 2 * i, i % 4) for i in range(100)], [\"a\", \"b\", \"c\"])\n",
    "df.show(10)"
   ]
  },
  {
   "cell_type": "code",
   "execution_count": 0,
   "metadata": {
    "application/vnd.databricks.v1+cell": {
     "inputWidgets": {},
     "nuid": "cb91e25c-32a8-4227-b27e-3fde82d1ef6d",
     "showTitle": false,
     "title": ""
    },
    "slideshow": {
     "slide_type": "slide"
    }
   },
   "outputs": [
    {
     "data": {
      "text/html": [
       "<style scoped>\n",
       "  .ansiout {\n",
       "    display: block;\n",
       "    unicode-bidi: embed;\n",
       "    white-space: pre-wrap;\n",
       "    word-wrap: break-word;\n",
       "    word-break: break-all;\n",
       "    font-family: \"Source Code Pro\", \"Menlo\", monospace;;\n",
       "    font-size: 13px;\n",
       "    color: #555;\n",
       "    margin-left: 4px;\n",
       "    line-height: 19px;\n",
       "  }\n",
       "</style>\n",
       "<div class=\"ansiout\">+-----------+-----------+-----------+\n",
       "a_freqItems|b_freqItems|c_freqItems|\n",
       "+-----------+-----------+-----------+\n",
       "    [11, 1]|    [2, 22]|     [1, 3]|\n",
       "+-----------+-----------+-----------+\n",
       "\n",
       "</div>"
      ]
     },
     "metadata": {
      "application/vnd.databricks.v1+output": {
       "addedWidgets": {},
       "arguments": {},
       "data": "<div class=\"ansiout\">+-----------+-----------+-----------+\n|a_freqItems|b_freqItems|c_freqItems|\n+-----------+-----------+-----------+\n|    [11, 1]|    [2, 22]|     [1, 3]|\n+-----------+-----------+-----------+\n\n</div>",
       "datasetInfos": [],
       "removedWidgets": [],
       "type": "html"
      }
     },
     "output_type": "display_data"
    }
   ],
   "source": [
    "freq = df.stat.freqItems([\"a\", \"b\", \"c\"], 0.4)\n",
    "freq.show()"
   ]
  },
  {
   "cell_type": "markdown",
   "metadata": {
    "application/vnd.databricks.v1+cell": {
     "inputWidgets": {},
     "nuid": "8873f842-1f8e-4945-a538-dea3c701c247",
     "showTitle": false,
     "title": ""
    },
    "slideshow": {
     "slide_type": "slide"
    }
   },
   "source": [
    "Dado o DataFrame acima, o código a seguir encontra os itens frequentes que aparecem 40% do tempo para cada coluna:"
   ]
  },
  {
   "cell_type": "code",
   "execution_count": 0,
   "metadata": {
    "application/vnd.databricks.v1+cell": {
     "inputWidgets": {},
     "nuid": "ccf82708-9e78-4ee8-9765-b143d9493ad6",
     "showTitle": false,
     "title": ""
    },
    "slideshow": {
     "slide_type": "slide"
    }
   },
   "outputs": [
    {
     "data": {
      "text/html": [
       "<style scoped>\n",
       "  .ansiout {\n",
       "    display: block;\n",
       "    unicode-bidi: embed;\n",
       "    white-space: pre-wrap;\n",
       "    word-wrap: break-word;\n",
       "    word-break: break-all;\n",
       "    font-family: \"Source Code Pro\", \"Menlo\", monospace;;\n",
       "    font-size: 13px;\n",
       "    color: #555;\n",
       "    margin-left: 4px;\n",
       "    line-height: 19px;\n",
       "  }\n",
       "</style>\n",
       "<div class=\"ansiout\">Out[58]: Row(a_freqItems=[11, 1], b_freqItems=[2, 22], c_freqItems=[1, 3])</div>"
      ]
     },
     "metadata": {
      "application/vnd.databricks.v1+output": {
       "addedWidgets": {},
       "arguments": {},
       "data": "<div class=\"ansiout\">Out[58]: Row(a_freqItems=[11, 1], b_freqItems=[2, 22], c_freqItems=[1, 3])</div>",
       "datasetInfos": [],
       "removedWidgets": [],
       "type": "html"
      }
     },
     "output_type": "display_data"
    }
   ],
   "source": [
    "freq.collect()[0]"
   ]
  },
  {
   "cell_type": "markdown",
   "metadata": {
    "application/vnd.databricks.v1+cell": {
     "inputWidgets": {},
     "nuid": "8ed730a3-c77e-4eea-aabf-a188a49ea6c2",
     "showTitle": false,
     "title": ""
    },
    "slideshow": {
     "slide_type": "slide"
    }
   },
   "source": [
    "Como você pode ver, “11” e “1” são os valores frequentes para a coluna “a”."
   ]
  }
 ],
 "metadata": {
  "application/vnd.databricks.v1+notebook": {
   "dashboards": [],
   "language": "python",
   "notebookName": "Estatistica o Databricks Pyspark",
   "notebookOrigID": 1496657010222161,
   "widgets": {}
  },
  "celltoolbar": "Slideshow",
  "kernelspec": {
   "display_name": "Python 3",
   "language": "python",
   "name": "python3"
  },
  "language_info": {
   "codemirror_mode": {
    "name": "ipython",
    "version": 3
   },
   "file_extension": ".py",
   "mimetype": "text/x-python",
   "name": "python",
   "nbconvert_exporter": "python",
   "pygments_lexer": "ipython3",
   "version": "3.8.3"
  }
 },
 "nbformat": 4,
 "nbformat_minor": 1
}
